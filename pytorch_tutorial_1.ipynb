{
  "nbformat": 4,
  "nbformat_minor": 0,
  "metadata": {
    "colab": {
      "name": "pytorch_tutorial_1.ipynb",
      "version": "0.3.2",
      "provenance": [],
      "collapsed_sections": [
        "Nq6wwN4U_Hsy",
        "nN2eK_5K_HtV",
        "0tDCixcd_Htg",
        "-BaqBcer_Htt",
        "DQRbcgb5_Htz",
        "Mr0RwGOH_Ht8",
        "RqgpbNxG_HuL"
      ]
    },
    "kernelspec": {
      "name": "python3",
      "display_name": "Python 3"
    },
    "accelerator": "GPU"
  },
  "cells": [
    {
      "metadata": {
        "id": "8_UZK9CIDJKr",
        "colab_type": "text"
      },
      "cell_type": "markdown",
      "source": [
        "# Pytorch Deep Dive\n",
        "\n",
        "![alt text](data:image/png;base64,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)\n",
        "\n",
        "\n",
        "\n",
        "\n",
        "### Brief History ( since 2016 )\n",
        "The name Pytorch comes from an older module called `torch`, written in the programming language lua. The developers wanted to create a newer of `torch` because it was aging. As they wrote it in Python, they called the new version Py torch. \n",
        "\n",
        "\n",
        "\n",
        "---\n",
        "\n",
        "\n",
        "### Advantages \n",
        "\n",
        "These are the main reasons why Pytorch is getting more and more popular to do deep learning, also for beginners.\n",
        "\n",
        "- programming in Pytorch is very close ot programming neural networks from scratch ( that is without using a third party library ). In other words, Pytorch is a thin framework. \n",
        "\n",
        "- Pytorch stays out of the way ( i.e. try to make your life as easy as possible )\n",
        "\n",
        "- Pytorch is fast\n",
        "\n",
        "- Pytorch allows for straight forward debugging\n",
        "- very GPU friendly \n",
        "\n",
        "\n",
        "Next to the fact that Pytorch is great for beginners, many people prefer it for doing deep learning research as well. This is because Pytorch uses a **dynamic** computational graph, which means that the graph is created at the moment you are running the code. This gives more flexibility when doing cutting edge research compared to **static** computational graphs. \n",
        "\n",
        "\n",
        "\n"
      ]
    },
    {
      "metadata": {
        "id": "O_n0sIKBJ8zH",
        "colab_type": "text"
      },
      "cell_type": "markdown",
      "source": [
        "## GPU's vs CPU's\n",
        "When you are training models on big datasets, you want to use a GPU. A GPU, which stands for Graphics Processing Unit, is different than a CPU, a Computer Processing Unit. For normal uses, a CPU is perfect. But GPU's are great for doing a lot of the same operations in parallel. When training a neural network we are doing tons of matrix operations, a GPU allows us to split up the work and therefore makes the training process faster. [exact differences.](https://i2.wp.com/www10.mcadcafe.com/blogs/jeffrowe/files/2017/03/CPU-and-GPU.png?w=925&ssl=1)\n",
        "\n",
        "You can loosely think of it like this: a CPU is like an Opel Astra, its quite fast and a nice car to drive in. However, when you want to transfer a lot of freight from A to B, your car would be too full, not very practical. Instead, it is better use a mini-truck (GPU) that can transport a lot at the same time ( in parallel ). That way, you can transport your freight much faster.\n",
        "\n",
        "Now neural networks are [embarrasingly parallel](https://en.wikipedia.org/wiki/Embarrassingly_parallel). No effort is needed to break up the problem into a number of parallel tasks."
      ]
    },
    {
      "metadata": {
        "id": "HirjJr_XiKrv",
        "colab_type": "text"
      },
      "cell_type": "markdown",
      "source": [
        "# Using Pytorch and Tensors\n",
        "\n",
        "Python-based scientific computing package targeted at two sets of audiences:\n",
        "\n",
        "- A replacement for NumPy to use the power of GPUs\n",
        "- a deep learning research platform that provides maximum flexibility and speed\n",
        "\n",
        " \n",
        "First we do some basic operations with Pytorch\n"
      ]
    },
    {
      "metadata": {
        "id": "lJw_VSDahwEv",
        "colab_type": "code",
        "colab": {}
      },
      "cell_type": "code",
      "source": [
        "# this is how you import Pytorch\n",
        "import torch\n",
        "import numpy as np"
      ],
      "execution_count": 0,
      "outputs": []
    },
    {
      "metadata": {
        "id": "WVdFWTZLkNxT",
        "colab_type": "text"
      },
      "cell_type": "markdown",
      "source": [
        "##Tensors\n",
        "\n",
        "\"the atoms of machin learning ...\" [from here](https://github.com/sotte/pytorch_tutorial/blob/master/notebooks/00_index.ipynb)\n",
        "\n",
        "\n",
        "In Pytorch we work with tensors. What is a tensor?\n",
        "\n",
        "` a tensor is an n-dimensional array`\n",
        "\n",
        "The fields of CS and math have different terms for the same idea. \n",
        "\n",
        ">Indexes needed | Computer Science | Math |\n",
        ">--- | --- | ---\n",
        ">0 | number | scalar\n",
        ">1 | array | vector\n",
        ">2 | 2d-array | matrix\n",
        ">n | nd-array | nd-tensor\n",
        "\n",
        "To access a scalar for example, you don't need an index. To access a specific element in a matrix on the other hand, you need two indexes to specify the location.\n",
        "\n",
        "When n > 2, we start using generic terms. But for this course, just remember that tensors are multi-dimensional arrays.\n",
        "\n"
      ]
    },
    {
      "metadata": {
        "id": "pgnoYcyl9XfD",
        "colab_type": "code",
        "outputId": "27936935-8699-42ff-dea3-74bfed8912d1",
        "colab": {
          "base_uri": "https://localhost:8080/",
          "height": 68
        }
      },
      "cell_type": "code",
      "source": [
        "np.eye(3,3)"
      ],
      "execution_count": 0,
      "outputs": [
        {
          "output_type": "execute_result",
          "data": {
            "text/plain": [
              "array([[1., 0., 0.],\n",
              "       [0., 1., 0.],\n",
              "       [0., 0., 1.]])"
            ]
          },
          "metadata": {
            "tags": []
          },
          "execution_count": 2
        }
      ]
    },
    {
      "metadata": {
        "id": "nLBTyplt9ilb",
        "colab_type": "code",
        "outputId": "0028d828-10a6-4070-f301-a40424d4691e",
        "colab": {
          "base_uri": "https://localhost:8080/",
          "height": 68
        }
      },
      "cell_type": "code",
      "source": [
        "torch.eye(3,3)"
      ],
      "execution_count": 0,
      "outputs": [
        {
          "output_type": "execute_result",
          "data": {
            "text/plain": [
              "tensor([[1., 0., 0.],\n",
              "        [0., 1., 0.],\n",
              "        [0., 0., 1.]])"
            ]
          },
          "metadata": {
            "tags": []
          },
          "execution_count": 12
        }
      ]
    },
    {
      "metadata": {
        "id": "1ZJAcS-khwMX",
        "colab_type": "code",
        "outputId": "9a5f8a5b-9dff-4a8a-f65a-32d33e304ddb",
        "colab": {
          "base_uri": "https://localhost:8080/",
          "height": 85
        }
      },
      "cell_type": "code",
      "source": [
        "# create randomly initialised matrix\n",
        "# x rows, x columns\n",
        "torch.rand(4,3)"
      ],
      "execution_count": 0,
      "outputs": [
        {
          "output_type": "execute_result",
          "data": {
            "text/plain": [
              "tensor([[0.6923, 0.5853, 0.3002],\n",
              "        [0.7880, 0.3881, 0.3253],\n",
              "        [0.1061, 0.8614, 0.5063],\n",
              "        [0.3168, 0.6021, 0.7902]])"
            ]
          },
          "metadata": {
            "tags": []
          },
          "execution_count": 3
        }
      ]
    },
    {
      "metadata": {
        "id": "87_PYRHGkNmn",
        "colab_type": "code",
        "outputId": "75452ccc-cbe1-45f6-f366-f31f8936daa4",
        "colab": {
          "base_uri": "https://localhost:8080/",
          "height": 85
        }
      },
      "cell_type": "code",
      "source": [
        "# create tensor with zeros\n",
        "torch.zeros(4,3)"
      ],
      "execution_count": 0,
      "outputs": [
        {
          "output_type": "execute_result",
          "data": {
            "text/plain": [
              "tensor([[0., 0., 0.],\n",
              "        [0., 0., 0.],\n",
              "        [0., 0., 0.],\n",
              "        [0., 0., 0.]])"
            ]
          },
          "metadata": {
            "tags": []
          },
          "execution_count": 4
        }
      ]
    },
    {
      "metadata": {
        "id": "6DsDS0cKhwTO",
        "colab_type": "code",
        "outputId": "973213b5-b7cf-428e-88f5-23f92cfe83e8",
        "colab": {
          "base_uri": "https://localhost:8080/",
          "height": 85
        }
      },
      "cell_type": "code",
      "source": [
        "# create tensor with ones\n",
        "torch.ones(4,3)"
      ],
      "execution_count": 0,
      "outputs": [
        {
          "output_type": "execute_result",
          "data": {
            "text/plain": [
              "tensor([[1., 1., 1.],\n",
              "        [1., 1., 1.],\n",
              "        [1., 1., 1.],\n",
              "        [1., 1., 1.]])"
            ]
          },
          "metadata": {
            "tags": []
          },
          "execution_count": 5
        }
      ]
    },
    {
      "metadata": {
        "id": "o6L278Bshwac",
        "colab_type": "code",
        "outputId": "4c676ac0-1a94-4f42-cd3e-9be0ea18e97a",
        "colab": {
          "base_uri": "https://localhost:8080/",
          "height": 34
        }
      },
      "cell_type": "code",
      "source": [
        "# what is the size of my tensor?\n",
        "x = torch.rand(3,3)\n",
        "\n",
        "x.size()"
      ],
      "execution_count": 0,
      "outputs": [
        {
          "output_type": "execute_result",
          "data": {
            "text/plain": [
              "torch.Size([3, 3])"
            ]
          },
          "metadata": {
            "tags": []
          },
          "execution_count": 6
        }
      ]
    },
    {
      "metadata": {
        "id": "6Mhgk5QJwuAP",
        "colab_type": "text"
      },
      "cell_type": "markdown",
      "source": [
        "We can also add, subtract etc using Pytorch\n",
        "\n",
        "\n",
        "## From numpy to to torch tensor and vice versa\n",
        "\n",
        "why would you want to convert something from torch tensor to numpy array?\n",
        "\n",
        "some functions require an numpy array as input.\n",
        "\n",
        "We can easily do this like so"
      ]
    },
    {
      "metadata": {
        "id": "ZhSWpOx6wyWf",
        "colab_type": "code",
        "outputId": "88413d64-bb1e-478e-dc2f-f2b7f7b6e27e",
        "colab": {
          "base_uri": "https://localhost:8080/",
          "height": 85
        }
      },
      "cell_type": "code",
      "source": [
        "# create a tensors\n",
        "a = torch.zeros(4,3)\n",
        "\n",
        "print(a)"
      ],
      "execution_count": 0,
      "outputs": [
        {
          "output_type": "stream",
          "text": [
            "tensor([[0., 0., 0.],\n",
            "        [0., 0., 0.],\n",
            "        [0., 0., 0.],\n",
            "        [0., 0., 0.]])\n"
          ],
          "name": "stdout"
        }
      ]
    },
    {
      "metadata": {
        "id": "No9uOzeXwya0",
        "colab_type": "code",
        "outputId": "50824c93-c9fc-44b8-c775-8b44780406a3",
        "colab": {
          "base_uri": "https://localhost:8080/",
          "height": 85
        }
      },
      "cell_type": "code",
      "source": [
        "# convert to numpy array\n",
        "b = a.numpy()\n",
        "\n",
        "print(b)"
      ],
      "execution_count": 0,
      "outputs": [
        {
          "output_type": "stream",
          "text": [
            "[[0. 0. 0.]\n",
            " [0. 0. 0.]\n",
            " [0. 0. 0.]\n",
            " [0. 0. 0.]]\n"
          ],
          "name": "stdout"
        }
      ]
    },
    {
      "metadata": {
        "id": "HqUkJS4yyZw0",
        "colab_type": "text"
      },
      "cell_type": "markdown",
      "source": [
        "both will automatically assume element-wise addition.\n",
        "\n",
        "Because the torch tensor and numpy array share the same location in memory, changing one will by default change the other as well."
      ]
    },
    {
      "metadata": {
        "id": "r6QNP0Hawyeo",
        "colab_type": "code",
        "outputId": "fa817048-5507-4b54-95a8-bcd21cad423c",
        "colab": {
          "base_uri": "https://localhost:8080/",
          "height": 153
        }
      },
      "cell_type": "code",
      "source": [
        "a.add_(1)\n",
        "\n",
        "print(a)\n",
        "print(b)"
      ],
      "execution_count": 0,
      "outputs": [
        {
          "output_type": "stream",
          "text": [
            "tensor([[1., 1., 1.],\n",
            "        [1., 1., 1.],\n",
            "        [1., 1., 1.],\n",
            "        [1., 1., 1.]])\n",
            "[[1. 1. 1.]\n",
            " [1. 1. 1.]\n",
            " [1. 1. 1.]\n",
            " [1. 1. 1.]]\n"
          ],
          "name": "stdout"
        }
      ]
    },
    {
      "metadata": {
        "id": "MUh6wJnv9p_h",
        "colab_type": "text"
      },
      "cell_type": "markdown",
      "source": [
        "### Key point\n",
        "\n",
        "- all operations in numpy are extremely similar in pytorch\n",
        "\n"
      ]
    },
    {
      "metadata": {
        "id": "tpn4pjIt20qJ",
        "colab_type": "text"
      },
      "cell_type": "markdown",
      "source": [
        "# Neural Network\n",
        "\n",
        "adapted from the [pytorch blitz.](https://pytorch.org/tutorials/beginner/blitz/neural_networks_tutorial.html#sphx-glr-beginner-blitz-neural-networks-tutorial-py)\n",
        "\n",
        "It is a simple feed-forward network. It takes the input, feeds it through several layers one after the other, and then finally gives the output.\n",
        "\n",
        "A typical training procedure for a neural network is as follows:\n",
        "\n",
        "- Define the neural network that has some learnable parameters (or weights)\n",
        "- Iterate over a dataset of inputs\n",
        "- Process input through the network\n",
        "- Compute the loss (how far is the output from being correct)\n",
        "- Propagate gradients back into the network’s parameters\n",
        "- Update the weights of the network, typically using a simple update rule: `weight = weight - learning_rate * gradient`\n",
        "\n",
        "\n",
        "Remember: we always have \n",
        "- model\n",
        "- loss\n",
        "- optimiser\n",
        "\n",
        "\n",
        "---\n",
        "\n",
        "\n",
        "![alt text](https://pytorch.org/tutorials/_images/mnist.png)\n"
      ]
    },
    {
      "metadata": {
        "id": "8E1Rqcl24SWY",
        "colab_type": "text"
      },
      "cell_type": "markdown",
      "source": [
        "[`torch.nn`](https://pytorch.org/docs/stable/nn.html)"
      ]
    },
    {
      "metadata": {
        "id": "C-xghtzp8CTn",
        "colab_type": "code",
        "colab": {}
      },
      "cell_type": "code",
      "source": [
        "# the basic imports\n",
        "import torch\n",
        "import torch.nn as nn # the neural network module\n",
        "import torch.nn.functional as F "
      ],
      "execution_count": 0,
      "outputs": []
    },
    {
      "metadata": {
        "id": "wbu7c_eAPu6D",
        "colab_type": "code",
        "colab": {}
      },
      "cell_type": "code",
      "source": [
        "# define neural network\n",
        "class Net(nn.Module):\n",
        "\n",
        "# the layers\n",
        "\n",
        "    def __init__(self):\n",
        "        super(Net, self).__init__()\n",
        "        # 1 input image channel, 6 output channels, 5x5 square convolution kernel\n",
        "        self.conv1 = nn.Conv2d(1, 6, 5)\n",
        "        self.conv2 = nn.Conv2d(6, 16, 5)\n",
        "        # an affine operation: y = Wx + b\n",
        "        self.fc1 = nn.Linear(16 * 5 * 5, 120)\n",
        "        self.fc2 = nn.Linear(120, 84)\n",
        "        self.fc3 = nn.Linear(84, 10)\n",
        "\n",
        "# forward method \n",
        "# x is the data\n",
        "    def forward(self, x):\n",
        "        # Max pooling over a (2, 2) window\n",
        "        x = F.max_pool2d(F.relu(self.conv1(x)), (2, 2))\n",
        "        # If the size is a square you can only specify a single number\n",
        "        x = F.max_pool2d(F.relu(self.conv2(x)), 2)\n",
        "        x = x.view(-1, self.num_flat_features(x))\n",
        "        x = F.relu(self.fc1(x)) # activation function\n",
        "        x = F.relu(self.fc2(x)) # activation function\n",
        "        x = self.fc3(x)\n",
        "        return x\n",
        "\n",
        "    def num_flat_features(self, x):\n",
        "        size = x.size()[1:]  # all dimensions except the batch dimension\n",
        "        num_features = 1\n",
        "        for s in size:\n",
        "            num_features *= s\n",
        "        return num_features\n",
        "\n",
        "\n",
        "net = Net()\n",
        "print(net)"
      ],
      "execution_count": 0,
      "outputs": []
    },
    {
      "metadata": {
        "id": "39kbxrs9XChU",
        "colab_type": "text"
      },
      "cell_type": "markdown",
      "source": [
        "# ________ STOP HERE\n"
      ]
    },
    {
      "metadata": {
        "id": "zCgRexhG_HrD",
        "colab_type": "text"
      },
      "cell_type": "markdown",
      "source": [
        "\n",
        "FASTAI - What is `torch.nn` *really*?\n",
        "============================\n",
        "by Jeremy Howard, fast.ai. Thanks to Rachel Thomas and Francisco Ingham.\n"
      ]
    },
    {
      "metadata": {
        "id": "leR3d8un_HrE",
        "colab_type": "text"
      },
      "cell_type": "markdown",
      "source": [
        "MNIST data setup\n",
        "----------------\n",
        "\n",
        "We will use the classic  [MNIST](http://deeplearning.net/data/mnist/) dataset,\n",
        "which consists of black-and-white images of hand-written digits (between 0 and 9).\n",
        "\n",
        "We will use [pathlib](https://docs.python.org/3/library/pathlib.html)\n",
        "for dealing with paths (part of the Python 3 standard library), and will\n",
        "download the dataset using\n",
        "[requests](http://docs.python-requests.org/en/master/). We will only\n",
        "import modules when we use them, so you can see exactly what's being\n",
        "used at each point.\n"
      ]
    },
    {
      "metadata": {
        "id": "4n_u1vWZ_HrF",
        "colab_type": "code",
        "colab": {}
      },
      "cell_type": "code",
      "source": [
        "# getting the data\n",
        "from pathlib import Path\n",
        "import requests\n",
        "\n",
        "DATA_PATH = Path(\"data\")\n",
        "PATH = DATA_PATH / \"mnist\"\n",
        "\n",
        "# make directory\n",
        "PATH.mkdir(parents=True, exist_ok=True)\n",
        "\n",
        "URL = \"http://deeplearning.net/data/mnist/\"\n",
        "FILENAME = \"mnist.pkl.gz\"\n",
        "\n",
        "if not (PATH / FILENAME).exists():\n",
        "        content = requests.get(URL + FILENAME).content\n",
        "        (PATH / FILENAME).open(\"wb\").write(content)"
      ],
      "execution_count": 0,
      "outputs": []
    },
    {
      "metadata": {
        "id": "IbodY_ot_HrI",
        "colab_type": "text"
      },
      "cell_type": "markdown",
      "source": [
        "This dataset is in numpy array format, and has been stored using pickle,\n",
        "a python-specific format for serializing data.\n",
        "\n"
      ]
    },
    {
      "metadata": {
        "id": "m3yiAvOO_HrJ",
        "colab_type": "code",
        "colab": {}
      },
      "cell_type": "code",
      "source": [
        "import pickle\n",
        "import gzip\n",
        "\n",
        "with gzip.open((PATH / FILENAME).as_posix(), \"rb\") as f:\n",
        "        ((x_train, y_train), (x_valid, y_valid), _) = pickle.load(f, encoding=\"latin-1\")"
      ],
      "execution_count": 0,
      "outputs": []
    },
    {
      "metadata": {
        "id": "GRMlTzyz_HrL",
        "colab_type": "text"
      },
      "cell_type": "markdown",
      "source": [
        "Each image is 28 x 28, and is being stored as a flattened row of length\n",
        "784 (=28x28). Let's take a look at one; we need to reshape it to 2d\n",
        "first. Fully connected networks expect one dimensional data.\n",
        "\n"
      ]
    },
    {
      "metadata": {
        "id": "2b9xbhZj_HrN",
        "colab_type": "code",
        "outputId": "75a892f1-0540-4aa9-cc05-b38d8050298e",
        "colab": {
          "base_uri": "https://localhost:8080/",
          "height": 364
        }
      },
      "cell_type": "code",
      "source": [
        "from matplotlib import pyplot\n",
        "import numpy as np\n",
        "\n",
        "pyplot.imshow(x_train[1].reshape((28, 28)), cmap=\"gray\")\n",
        "print(x_train.shape)"
      ],
      "execution_count": 0,
      "outputs": [
        {
          "output_type": "stream",
          "text": [
            "(50000, 784)\n"
          ],
          "name": "stdout"
        },
        {
          "output_type": "display_data",
          "data": {
            "image/png": "[encoded data removed]",
            "text/plain": [
              "<Figure size 576x396 with 1 Axes>"
            ]
          },
          "metadata": {
            "tags": []
          }
        }
      ]
    },
    {
      "metadata": {
        "id": "huSsNtvv_HrQ",
        "colab_type": "text"
      },
      "cell_type": "markdown",
      "source": [
        "PyTorch uses ``torch.tensor``, rather than numpy arrays, so we need to\n",
        "convert our data.\n",
        "\n"
      ]
    },
    {
      "metadata": {
        "id": "zYv7IsLd_HrR",
        "colab_type": "code",
        "outputId": "b7f27c63-aa47-49a2-878c-467bf0ac160e",
        "colab": {
          "base_uri": "https://localhost:8080/",
          "height": 170
        }
      },
      "cell_type": "code",
      "source": [
        "import torch\n",
        "\n",
        "# make everything a tensor with map\n",
        "x_train, y_train, x_valid, y_valid = map(\n",
        "    torch.tensor, (x_train, y_train, x_valid, y_valid))\n",
        "\n",
        "n, c = x_train.shape\n",
        "x_train, x_train.shape, y_train.min(), y_train.max()\n",
        "\n",
        "print(x_train, y_train)\n",
        "print(x_train.shape)\n",
        "print(y_train.min(), y_train.max())"
      ],
      "execution_count": 0,
      "outputs": [
        {
          "output_type": "stream",
          "text": [
            "tensor([[0., 0., 0.,  ..., 0., 0., 0.],\n",
            "        [0., 0., 0.,  ..., 0., 0., 0.],\n",
            "        [0., 0., 0.,  ..., 0., 0., 0.],\n",
            "        ...,\n",
            "        [0., 0., 0.,  ..., 0., 0., 0.],\n",
            "        [0., 0., 0.,  ..., 0., 0., 0.],\n",
            "        [0., 0., 0.,  ..., 0., 0., 0.]]) tensor([5, 0, 4,  ..., 8, 4, 8])\n",
            "torch.Size([50000, 784])\n",
            "tensor(0) tensor(9)\n"
          ],
          "name": "stdout"
        }
      ]
    },
    {
      "metadata": {
        "id": "txYgjDPG_HrV",
        "colab_type": "text"
      },
      "cell_type": "markdown",
      "source": [
        "Neural net from scratch (no torch.nn)\n",
        "---------------------------------------------\n",
        "\n",
        "\n",
        "Let's first create a model using nothing but PyTorch tensor operations. We're assuming\n",
        "you're already familiar with the basics of neural networks.\n",
        "\n",
        "PyTorch provides methods to create random or zero-filled tensors, which we will\n",
        "use to create our weights and bias for a simple linear model. These are just regular\n",
        "tensors, with one very special addition: we tell PyTorch that they require a\n",
        "gradient. This causes PyTorch to record all of the operations done on the tensor,\n",
        "so that it can calculate the gradient during back-propagation *automatically*!\n",
        "\n",
        "For the weights, we set ``requires_grad`` **after** the initialization, since we\n",
        "don't want that step included in the gradient. (Note that a trailling ``_`` in\n",
        "PyTorch signifies that the operation is performed in-place.)\n",
        "\n",
        "<div class=\"alert alert-info\"><h4>Note</h4><p>We are initializing the weights here with\n",
        "   `Xavier initialisation <http://proceedings.mlr.press/v9/glorot10a/glorot10a.pdf>`_\n",
        "   (by multiplying with 1/sqrt(n)).</p></div>\n",
        "\n"
      ]
    },
    {
      "metadata": {
        "id": "7gag92zN_HrV",
        "colab_type": "code",
        "outputId": "7300e929-1592-4e5a-b0a5-a24a30e3450d",
        "colab": {
          "base_uri": "https://localhost:8080/",
          "height": 170
        }
      },
      "cell_type": "code",
      "source": [
        "import math\n",
        "\n",
        "# initialise weights > glorot style\n",
        "weights = torch.randn(784, 10) / math.sqrt(784)\n",
        "\n",
        "# turn on feature that tracks the gradient\n",
        "weights.requires_grad_()\n",
        "\n",
        "bias = torch.zeros(10, requires_grad=True)\n",
        "\n",
        "print(weights)\n",
        "print(bias)"
      ],
      "execution_count": 0,
      "outputs": [
        {
          "output_type": "stream",
          "text": [
            "tensor([[-0.0469,  0.0608, -0.0530,  ...,  0.0524,  0.0439,  0.0072],\n",
            "        [ 0.0395, -0.0376,  0.0323,  ...,  0.0722, -0.0372, -0.0216],\n",
            "        [ 0.0083, -0.0335,  0.0096,  ..., -0.0357, -0.0458,  0.0208],\n",
            "        ...,\n",
            "        [-0.0051, -0.0543, -0.0049,  ...,  0.0064, -0.0705, -0.0370],\n",
            "        [ 0.0159, -0.0028,  0.0190,  ...,  0.0178, -0.0589, -0.0076],\n",
            "        [-0.0303,  0.0570, -0.0733,  ...,  0.0271,  0.0582, -0.0293]],\n",
            "       requires_grad=True)\n",
            "tensor([0., 0., 0., 0., 0., 0., 0., 0., 0., 0.], requires_grad=True)\n"
          ],
          "name": "stdout"
        }
      ]
    },
    {
      "metadata": {
        "id": "36Ouuvda_HrZ",
        "colab_type": "text"
      },
      "cell_type": "markdown",
      "source": [
        "Thanks to PyTorch's ability to calculate gradients automatically, we can\n",
        "use any standard Python function (or callable object) as a model! So\n",
        "let's just write a plain matrix multiplication and broadcasted addition\n",
        "to create a simple linear model. We also need an activation function, so\n",
        "we'll write `log_softmax` and use it. Remember: although PyTorch\n",
        "provides lots of pre-written loss functions, activation functions, and\n",
        "so forth, you can easily write your own using plain python. PyTorch will\n",
        "even create fast GPU or vectorized CPU code for your function\n",
        "automatically.\n",
        "\n"
      ]
    },
    {
      "metadata": {
        "id": "qL0yjbBN_Hrb",
        "colab_type": "code",
        "colab": {}
      },
      "cell_type": "code",
      "source": [
        "# def activation function\n",
        "def log_softmax(x):\n",
        "    return x - x.exp().sum(-1).log().unsqueeze(-1)\n",
        "\n",
        "# @ is the dot product\n",
        "# one layer neural network\n",
        "def model(xb):\n",
        "    return log_softmax(xb @ weights + bias)"
      ],
      "execution_count": 0,
      "outputs": []
    },
    {
      "metadata": {
        "id": "mCYcp-U6_Hrg",
        "colab_type": "text"
      },
      "cell_type": "markdown",
      "source": [
        "In the above, the ``@`` stands for the dot product operation. We will call\n",
        "our function on one batch of data (in this case, 64 images).  This is\n",
        "one *forward pass*.  Note that our predictions won't be any better than\n",
        "random at this stage, since we start with random weights.\n",
        "\n"
      ]
    },
    {
      "metadata": {
        "id": "Y1x0qWya_Hrg",
        "colab_type": "code",
        "outputId": "1e3bf05d-7091-4751-9277-cc9e4473f18f",
        "colab": {
          "base_uri": "https://localhost:8080/",
          "height": 51
        }
      },
      "cell_type": "code",
      "source": [
        "bs = 64  # batch size\n",
        "\n",
        "xb = x_train[0:bs]  # a mini-batch from x\n",
        "preds = model(xb)  # predictions\n",
        "\n",
        "#preds[0], preds.shape\n",
        "print(preds[0], preds.shape)"
      ],
      "execution_count": 0,
      "outputs": [
        {
          "output_type": "stream",
          "text": [
            "tensor([-2.3935, -2.8274, -2.1683, -2.1972, -2.2209, -1.9221, -2.8800, -1.7761,\n",
            "        -2.4676, -2.8303], grad_fn=<SelectBackward>) torch.Size([64, 10])\n"
          ],
          "name": "stdout"
        }
      ]
    },
    {
      "metadata": {
        "id": "NrC7byiN_Hrk",
        "colab_type": "text"
      },
      "cell_type": "markdown",
      "source": [
        "As you see, the ``preds`` tensor contains not only the tensor values, but also a\n",
        "gradient function. We'll use this later to do backprop.\n",
        "\n",
        "Let's implement negative log-likelihood to use as the loss function\n",
        "(again, we can just use standard Python):\n",
        "\n",
        "\n",
        "![alt text](https://ljvmiranda921.github.io/assets/png/cs231n-ann/neg_log.png)\n"
      ]
    },
    {
      "metadata": {
        "id": "wKJf5pdk_Hrl",
        "colab_type": "code",
        "colab": {}
      },
      "cell_type": "code",
      "source": [
        "# define loss function\n",
        "def nll(input, target):\n",
        "    return -input[range(target.shape[0]), target].mean()\n",
        "\n",
        "# call it loss func\n",
        "loss_func = nll"
      ],
      "execution_count": 0,
      "outputs": []
    },
    {
      "metadata": {
        "id": "AJ7L1n9v_Hro",
        "colab_type": "text"
      },
      "cell_type": "markdown",
      "source": [
        "Let's check our loss with our random model, so we can see if we improve\n",
        "after a backprop pass later.\n",
        "\n"
      ]
    },
    {
      "metadata": {
        "id": "oUL4Hnvd_Hrp",
        "colab_type": "code",
        "outputId": "d0dfa968-d040-43b9-a200-10f2f28017d0",
        "colab": {
          "base_uri": "https://localhost:8080/",
          "height": 34
        }
      },
      "cell_type": "code",
      "source": [
        "# check how off our model is from ground truth\n",
        "yb = y_train[0:bs]\n",
        "print(loss_func(preds, yb))"
      ],
      "execution_count": 0,
      "outputs": [
        {
          "output_type": "stream",
          "text": [
            "tensor(2.3653, grad_fn=<NegBackward>)\n"
          ],
          "name": "stdout"
        }
      ]
    },
    {
      "metadata": {
        "id": "gI9th-Wa_Hrr",
        "colab_type": "text"
      },
      "cell_type": "markdown",
      "source": [
        "Let's also implement a function to calculate the accuracy of our model.\n",
        "For each prediction, if the index with the largest value matches the\n",
        "target value, then the prediction was correct.\n",
        "\n"
      ]
    },
    {
      "metadata": {
        "id": "cjgeeg5J_Hrs",
        "colab_type": "code",
        "colab": {}
      },
      "cell_type": "code",
      "source": [
        "def accuracy(out, yb):\n",
        "    preds = torch.argmax(out, dim=1)\n",
        "    return (preds == yb).float().mean()"
      ],
      "execution_count": 0,
      "outputs": []
    },
    {
      "metadata": {
        "id": "JOEOtJNP_Hrv",
        "colab_type": "text"
      },
      "cell_type": "markdown",
      "source": [
        "Let's check the accuracy of our random model, so we can see if our\n",
        "accuracy improves as our loss improves.\n",
        "\n"
      ]
    },
    {
      "metadata": {
        "id": "VgyoGYO5_Hrw",
        "colab_type": "code",
        "outputId": "960d1dcc-92ee-4c3b-eecb-99a465815759",
        "colab": {
          "base_uri": "https://localhost:8080/",
          "height": 34
        }
      },
      "cell_type": "code",
      "source": [
        "# our random model is 10 percent accurate\n",
        "print(accuracy(preds, yb))"
      ],
      "execution_count": 0,
      "outputs": [
        {
          "output_type": "stream",
          "text": [
            "tensor(0.1719)\n"
          ],
          "name": "stdout"
        }
      ]
    },
    {
      "metadata": {
        "id": "nIJC8PHLDp_a",
        "colab_type": "text"
      },
      "cell_type": "markdown",
      "source": [
        "# The Pytorch debugger is awesome\n",
        "\n",
        "\n",
        "- h(help): Print help\n",
        "\n",
        "- n(ext): Continue execution until the next line in the current function is reached or it returns.\n",
        "\n",
        "- s(tep): Execute the current line, stop at the first possible occasion (either in a function that is called or in the current function).\n",
        "- r(eturn): Continue execution until the current function returns.\n",
        "\n",
        "- r(eturn): Continue execution until the current function returns.\n",
        "\n",
        "- a(rgs): Print the argument list of the current function.\n",
        "\n",
        "\n",
        "\n",
        "\n",
        "`error`? use the debugger. done? insert `exit`"
      ]
    },
    {
      "metadata": {
        "id": "Sbabm1ZXGTtH",
        "colab_type": "code",
        "colab": {}
      },
      "cell_type": "code",
      "source": [
        "from IPython.core.debugger import set_trace\n",
        "\n",
        "# random data \n",
        "X = torch.rand((5, 3))"
      ],
      "execution_count": 0,
      "outputs": []
    },
    {
      "metadata": {
        "id": "AUVjvNLuEWh3",
        "colab_type": "code",
        "outputId": "a32418df-efaa-4bba-a4eb-f4636301c9a4",
        "colab": {
          "base_uri": "https://localhost:8080/",
          "height": 1575
        }
      },
      "cell_type": "code",
      "source": [
        "class MyModule(nn.Module):\n",
        "    def __init__(self):\n",
        "        super().__init__()\n",
        "        self.lin = nn.Linear(3, 1)\n",
        "    \n",
        "    def forward(self, X):\n",
        "        set_trace() # uncomment if want to debug\n",
        "        x = self.lin(X)\n",
        "        return X\n",
        "\n",
        "# set model as our model    \n",
        "model = MyModule()\n",
        "\n",
        "# create instance and input argument X as data\n",
        "y_ = model(X)\n",
        "\n",
        "# check if the shape is the same\n",
        "assert y_.shape == (5, 1), y_.shape"
      ],
      "execution_count": 0,
      "outputs": [
        {
          "output_type": "stream",
          "text": [
            "> \u001b[0;32m<ipython-input-6-1497b30627cf>\u001b[0m(8)\u001b[0;36mforward\u001b[0;34m()\u001b[0m\n",
            "\u001b[0;32m      6 \u001b[0;31m    \u001b[0;32mdef\u001b[0m \u001b[0mforward\u001b[0m\u001b[0;34m(\u001b[0m\u001b[0mself\u001b[0m\u001b[0;34m,\u001b[0m \u001b[0mX\u001b[0m\u001b[0;34m)\u001b[0m\u001b[0;34m:\u001b[0m\u001b[0;34m\u001b[0m\u001b[0;34m\u001b[0m\u001b[0m\n",
            "\u001b[0m\u001b[0;32m      7 \u001b[0;31m        \u001b[0mset_trace\u001b[0m\u001b[0;34m(\u001b[0m\u001b[0;34m)\u001b[0m \u001b[0;31m# uncomment if want to debug\u001b[0m\u001b[0;34m\u001b[0m\u001b[0;34m\u001b[0m\u001b[0m\n",
            "\u001b[0m\u001b[0;32m----> 8 \u001b[0;31m        \u001b[0mx\u001b[0m \u001b[0;34m=\u001b[0m \u001b[0mself\u001b[0m\u001b[0;34m.\u001b[0m\u001b[0mlin\u001b[0m\u001b[0;34m(\u001b[0m\u001b[0mX\u001b[0m\u001b[0;34m)\u001b[0m\u001b[0;34m\u001b[0m\u001b[0;34m\u001b[0m\u001b[0m\n",
            "\u001b[0m\u001b[0;32m      9 \u001b[0;31m        \u001b[0;32mreturn\u001b[0m \u001b[0mX\u001b[0m\u001b[0;34m\u001b[0m\u001b[0;34m\u001b[0m\u001b[0m\n",
            "\u001b[0m\u001b[0;32m     10 \u001b[0;31m\u001b[0;34m\u001b[0m\u001b[0m\n",
            "\u001b[0m\n",
            "ipdb> local()\n",
            "*** NameError: name 'local' is not defined\n",
            "ipdb> locals()\n",
            "{'X': tensor([[0.1787, 0.5321, 0.3883],\n",
            "        [0.3080, 0.4230, 0.6973],\n",
            "        [0.3859, 0.5692, 0.4626],\n",
            "        [0.9122, 0.7489, 0.8855],\n",
            "        [0.2043, 0.8933, 0.1884]]), 'self': MyModule(\n",
            "  (lin): Linear(in_features=3, out_features=1, bias=True)\n",
            ")}\n",
            "ipdb> X\n",
            "tensor([[0.1787, 0.5321, 0.3883],\n",
            "        [0.3080, 0.4230, 0.6973],\n",
            "        [0.3859, 0.5692, 0.4626],\n",
            "        [0.9122, 0.7489, 0.8855],\n",
            "        [0.2043, 0.8933, 0.1884]])\n",
            "ipdb> next\n",
            "> \u001b[0;32m<ipython-input-6-1497b30627cf>\u001b[0m(9)\u001b[0;36mforward\u001b[0;34m()\u001b[0m\n",
            "\u001b[0;32m      7 \u001b[0;31m        \u001b[0mset_trace\u001b[0m\u001b[0;34m(\u001b[0m\u001b[0;34m)\u001b[0m \u001b[0;31m# uncomment if want to debug\u001b[0m\u001b[0;34m\u001b[0m\u001b[0;34m\u001b[0m\u001b[0m\n",
            "\u001b[0m\u001b[0;32m      8 \u001b[0;31m        \u001b[0mx\u001b[0m \u001b[0;34m=\u001b[0m \u001b[0mself\u001b[0m\u001b[0;34m.\u001b[0m\u001b[0mlin\u001b[0m\u001b[0;34m(\u001b[0m\u001b[0mX\u001b[0m\u001b[0;34m)\u001b[0m\u001b[0;34m\u001b[0m\u001b[0;34m\u001b[0m\u001b[0m\n",
            "\u001b[0m\u001b[0;32m----> 9 \u001b[0;31m        \u001b[0;32mreturn\u001b[0m \u001b[0mX\u001b[0m\u001b[0;34m\u001b[0m\u001b[0;34m\u001b[0m\u001b[0m\n",
            "\u001b[0m\u001b[0;32m     10 \u001b[0;31m\u001b[0;34m\u001b[0m\u001b[0m\n",
            "\u001b[0m\u001b[0;32m     11 \u001b[0;31m\u001b[0;31m# set model as our model\u001b[0m\u001b[0;34m\u001b[0m\u001b[0;34m\u001b[0m\u001b[0;34m\u001b[0m\u001b[0m\n",
            "\u001b[0m\n",
            "ipdb>  locals()\n",
            "{'X': tensor([[0.1787, 0.5321, 0.3883],\n",
            "        [0.3080, 0.4230, 0.6973],\n",
            "        [0.3859, 0.5692, 0.4626],\n",
            "        [0.9122, 0.7489, 0.8855],\n",
            "        [0.2043, 0.8933, 0.1884]]), 'self': MyModule(\n",
            "  (lin): Linear(in_features=3, out_features=1, bias=True)\n",
            "), 'x': tensor([[0.4456],\n",
            "        [0.4616],\n",
            "        [0.4618],\n",
            "        [0.5574],\n",
            "        [0.5035]], grad_fn=<AddmmBackward>)}\n",
            "ipdb> exit\n"
          ],
          "name": "stdout"
        },
        {
          "output_type": "error",
          "ename": "BdbQuit",
          "evalue": "ignored",
          "traceback": [
            "\u001b[0;31m---------------------------------------------------------------------------\u001b[0m",
            "\u001b[0;31mBdbQuit\u001b[0m                                   Traceback (most recent call last)",
            "\u001b[0;32m<ipython-input-6-1497b30627cf>\u001b[0m in \u001b[0;36m<module>\u001b[0;34m()\u001b[0m\n\u001b[1;32m     13\u001b[0m \u001b[0;34m\u001b[0m\u001b[0m\n\u001b[1;32m     14\u001b[0m \u001b[0;31m# create instance and input argument X as data\u001b[0m\u001b[0;34m\u001b[0m\u001b[0;34m\u001b[0m\u001b[0;34m\u001b[0m\u001b[0m\n\u001b[0;32m---> 15\u001b[0;31m \u001b[0my_\u001b[0m \u001b[0;34m=\u001b[0m \u001b[0mmodel\u001b[0m\u001b[0;34m(\u001b[0m\u001b[0mX\u001b[0m\u001b[0;34m)\u001b[0m\u001b[0;34m\u001b[0m\u001b[0;34m\u001b[0m\u001b[0m\n\u001b[0m\u001b[1;32m     16\u001b[0m \u001b[0;34m\u001b[0m\u001b[0m\n\u001b[1;32m     17\u001b[0m \u001b[0;31m# check if the shape is the same\u001b[0m\u001b[0;34m\u001b[0m\u001b[0;34m\u001b[0m\u001b[0;34m\u001b[0m\u001b[0m\n",
            "\u001b[0;32m/usr/local/lib/python3.6/dist-packages/torch/nn/modules/module.py\u001b[0m in \u001b[0;36m__call__\u001b[0;34m(self, *input, **kwargs)\u001b[0m\n\u001b[1;32m    487\u001b[0m             \u001b[0mresult\u001b[0m \u001b[0;34m=\u001b[0m \u001b[0mself\u001b[0m\u001b[0;34m.\u001b[0m\u001b[0m_slow_forward\u001b[0m\u001b[0;34m(\u001b[0m\u001b[0;34m*\u001b[0m\u001b[0minput\u001b[0m\u001b[0;34m,\u001b[0m \u001b[0;34m**\u001b[0m\u001b[0mkwargs\u001b[0m\u001b[0;34m)\u001b[0m\u001b[0;34m\u001b[0m\u001b[0;34m\u001b[0m\u001b[0m\n\u001b[1;32m    488\u001b[0m         \u001b[0;32melse\u001b[0m\u001b[0;34m:\u001b[0m\u001b[0;34m\u001b[0m\u001b[0;34m\u001b[0m\u001b[0m\n\u001b[0;32m--> 489\u001b[0;31m             \u001b[0mresult\u001b[0m \u001b[0;34m=\u001b[0m \u001b[0mself\u001b[0m\u001b[0;34m.\u001b[0m\u001b[0mforward\u001b[0m\u001b[0;34m(\u001b[0m\u001b[0;34m*\u001b[0m\u001b[0minput\u001b[0m\u001b[0;34m,\u001b[0m \u001b[0;34m**\u001b[0m\u001b[0mkwargs\u001b[0m\u001b[0;34m)\u001b[0m\u001b[0;34m\u001b[0m\u001b[0;34m\u001b[0m\u001b[0m\n\u001b[0m\u001b[1;32m    490\u001b[0m         \u001b[0;32mfor\u001b[0m \u001b[0mhook\u001b[0m \u001b[0;32min\u001b[0m \u001b[0mself\u001b[0m\u001b[0;34m.\u001b[0m\u001b[0m_forward_hooks\u001b[0m\u001b[0;34m.\u001b[0m\u001b[0mvalues\u001b[0m\u001b[0;34m(\u001b[0m\u001b[0;34m)\u001b[0m\u001b[0;34m:\u001b[0m\u001b[0;34m\u001b[0m\u001b[0;34m\u001b[0m\u001b[0m\n\u001b[1;32m    491\u001b[0m             \u001b[0mhook_result\u001b[0m \u001b[0;34m=\u001b[0m \u001b[0mhook\u001b[0m\u001b[0;34m(\u001b[0m\u001b[0mself\u001b[0m\u001b[0;34m,\u001b[0m \u001b[0minput\u001b[0m\u001b[0;34m,\u001b[0m \u001b[0mresult\u001b[0m\u001b[0;34m)\u001b[0m\u001b[0;34m\u001b[0m\u001b[0;34m\u001b[0m\u001b[0m\n",
            "\u001b[0;32m<ipython-input-6-1497b30627cf>\u001b[0m in \u001b[0;36mforward\u001b[0;34m(self, X)\u001b[0m\n\u001b[1;32m      7\u001b[0m         \u001b[0mset_trace\u001b[0m\u001b[0;34m(\u001b[0m\u001b[0;34m)\u001b[0m \u001b[0;31m# uncomment if want to debug\u001b[0m\u001b[0;34m\u001b[0m\u001b[0;34m\u001b[0m\u001b[0m\n\u001b[1;32m      8\u001b[0m         \u001b[0mx\u001b[0m \u001b[0;34m=\u001b[0m \u001b[0mself\u001b[0m\u001b[0;34m.\u001b[0m\u001b[0mlin\u001b[0m\u001b[0;34m(\u001b[0m\u001b[0mX\u001b[0m\u001b[0;34m)\u001b[0m\u001b[0;34m\u001b[0m\u001b[0;34m\u001b[0m\u001b[0m\n\u001b[0;32m----> 9\u001b[0;31m         \u001b[0;32mreturn\u001b[0m \u001b[0mX\u001b[0m\u001b[0;34m\u001b[0m\u001b[0;34m\u001b[0m\u001b[0m\n\u001b[0m\u001b[1;32m     10\u001b[0m \u001b[0;34m\u001b[0m\u001b[0m\n\u001b[1;32m     11\u001b[0m \u001b[0;31m# set model as our model\u001b[0m\u001b[0;34m\u001b[0m\u001b[0;34m\u001b[0m\u001b[0;34m\u001b[0m\u001b[0m\n",
            "\u001b[0;32m<ipython-input-6-1497b30627cf>\u001b[0m in \u001b[0;36mforward\u001b[0;34m(self, X)\u001b[0m\n\u001b[1;32m      7\u001b[0m         \u001b[0mset_trace\u001b[0m\u001b[0;34m(\u001b[0m\u001b[0;34m)\u001b[0m \u001b[0;31m# uncomment if want to debug\u001b[0m\u001b[0;34m\u001b[0m\u001b[0;34m\u001b[0m\u001b[0m\n\u001b[1;32m      8\u001b[0m         \u001b[0mx\u001b[0m \u001b[0;34m=\u001b[0m \u001b[0mself\u001b[0m\u001b[0;34m.\u001b[0m\u001b[0mlin\u001b[0m\u001b[0;34m(\u001b[0m\u001b[0mX\u001b[0m\u001b[0;34m)\u001b[0m\u001b[0;34m\u001b[0m\u001b[0;34m\u001b[0m\u001b[0m\n\u001b[0;32m----> 9\u001b[0;31m         \u001b[0;32mreturn\u001b[0m \u001b[0mX\u001b[0m\u001b[0;34m\u001b[0m\u001b[0;34m\u001b[0m\u001b[0m\n\u001b[0m\u001b[1;32m     10\u001b[0m \u001b[0;34m\u001b[0m\u001b[0m\n\u001b[1;32m     11\u001b[0m \u001b[0;31m# set model as our model\u001b[0m\u001b[0;34m\u001b[0m\u001b[0;34m\u001b[0m\u001b[0;34m\u001b[0m\u001b[0m\n",
            "\u001b[0;32m/usr/lib/python3.6/bdb.py\u001b[0m in \u001b[0;36mtrace_dispatch\u001b[0;34m(self, frame, event, arg)\u001b[0m\n\u001b[1;32m     49\u001b[0m             \u001b[0;32mreturn\u001b[0m \u001b[0;31m# None\u001b[0m\u001b[0;34m\u001b[0m\u001b[0;34m\u001b[0m\u001b[0m\n\u001b[1;32m     50\u001b[0m         \u001b[0;32mif\u001b[0m \u001b[0mevent\u001b[0m \u001b[0;34m==\u001b[0m \u001b[0;34m'line'\u001b[0m\u001b[0;34m:\u001b[0m\u001b[0;34m\u001b[0m\u001b[0;34m\u001b[0m\u001b[0m\n\u001b[0;32m---> 51\u001b[0;31m             \u001b[0;32mreturn\u001b[0m \u001b[0mself\u001b[0m\u001b[0;34m.\u001b[0m\u001b[0mdispatch_line\u001b[0m\u001b[0;34m(\u001b[0m\u001b[0mframe\u001b[0m\u001b[0;34m)\u001b[0m\u001b[0;34m\u001b[0m\u001b[0;34m\u001b[0m\u001b[0m\n\u001b[0m\u001b[1;32m     52\u001b[0m         \u001b[0;32mif\u001b[0m \u001b[0mevent\u001b[0m \u001b[0;34m==\u001b[0m \u001b[0;34m'call'\u001b[0m\u001b[0;34m:\u001b[0m\u001b[0;34m\u001b[0m\u001b[0;34m\u001b[0m\u001b[0m\n\u001b[1;32m     53\u001b[0m             \u001b[0;32mreturn\u001b[0m \u001b[0mself\u001b[0m\u001b[0;34m.\u001b[0m\u001b[0mdispatch_call\u001b[0m\u001b[0;34m(\u001b[0m\u001b[0mframe\u001b[0m\u001b[0;34m,\u001b[0m \u001b[0marg\u001b[0m\u001b[0;34m)\u001b[0m\u001b[0;34m\u001b[0m\u001b[0;34m\u001b[0m\u001b[0m\n",
            "\u001b[0;32m/usr/lib/python3.6/bdb.py\u001b[0m in \u001b[0;36mdispatch_line\u001b[0;34m(self, frame)\u001b[0m\n\u001b[1;32m     68\u001b[0m         \u001b[0;32mif\u001b[0m \u001b[0mself\u001b[0m\u001b[0;34m.\u001b[0m\u001b[0mstop_here\u001b[0m\u001b[0;34m(\u001b[0m\u001b[0mframe\u001b[0m\u001b[0;34m)\u001b[0m \u001b[0;32mor\u001b[0m \u001b[0mself\u001b[0m\u001b[0;34m.\u001b[0m\u001b[0mbreak_here\u001b[0m\u001b[0;34m(\u001b[0m\u001b[0mframe\u001b[0m\u001b[0;34m)\u001b[0m\u001b[0;34m:\u001b[0m\u001b[0;34m\u001b[0m\u001b[0;34m\u001b[0m\u001b[0m\n\u001b[1;32m     69\u001b[0m             \u001b[0mself\u001b[0m\u001b[0;34m.\u001b[0m\u001b[0muser_line\u001b[0m\u001b[0;34m(\u001b[0m\u001b[0mframe\u001b[0m\u001b[0;34m)\u001b[0m\u001b[0;34m\u001b[0m\u001b[0;34m\u001b[0m\u001b[0m\n\u001b[0;32m---> 70\u001b[0;31m             \u001b[0;32mif\u001b[0m \u001b[0mself\u001b[0m\u001b[0;34m.\u001b[0m\u001b[0mquitting\u001b[0m\u001b[0;34m:\u001b[0m \u001b[0;32mraise\u001b[0m \u001b[0mBdbQuit\u001b[0m\u001b[0;34m\u001b[0m\u001b[0;34m\u001b[0m\u001b[0m\n\u001b[0m\u001b[1;32m     71\u001b[0m         \u001b[0;32mreturn\u001b[0m \u001b[0mself\u001b[0m\u001b[0;34m.\u001b[0m\u001b[0mtrace_dispatch\u001b[0m\u001b[0;34m\u001b[0m\u001b[0;34m\u001b[0m\u001b[0m\n\u001b[1;32m     72\u001b[0m \u001b[0;34m\u001b[0m\u001b[0m\n",
            "\u001b[0;31mBdbQuit\u001b[0m: "
          ]
        }
      ]
    },
    {
      "metadata": {
        "id": "f0eOCauH_Hry",
        "colab_type": "text"
      },
      "cell_type": "markdown",
      "source": [
        "# Let's train the model\n",
        "\n",
        "We can now run a training loop.  For each iteration, we will:\n",
        "\n",
        "- select a mini-batch of data (of size ``bs``)\n",
        "- use the model to make predictions\n",
        "- calculate the loss\n",
        "- ``loss.backward()`` updates the gradients of the model, in this case, ``weights``\n",
        "  and ``bias``.\n",
        "\n",
        "We now use these gradients to update the weights and bias.  We do this\n",
        "within the ``torch.no_grad()`` context manager, because we do not want these\n",
        "actions to be recorded for our next calculation of the gradient.  You can [read\n",
        "more](https://pytorch.org/docs/stable/notes/autograd.html) about how PyTorch's Autograd records operations\n",
        "\n",
        "\n",
        "We then set the\n",
        "gradients to zero, so that we are ready for the next loop.\n",
        "Otherwise, our gradients would record a running tally of all the operations\n",
        "that had happened (i.e. ``loss.backward()`` *adds* the gradients to whatever is\n",
        "already stored, rather than replacing them).\n",
        "\n",
        "You can use the standard python debugger to step through PyTorch\n",
        "code, allowing you to check the various variable values at each step.\n",
        "Uncomment ``set_trace()`` below to try it out.\n",
        "\n",
        "\n"
      ]
    },
    {
      "metadata": {
        "id": "iKjblsFBDo2a",
        "colab_type": "code",
        "colab": {}
      },
      "cell_type": "code",
      "source": [
        ""
      ],
      "execution_count": 0,
      "outputs": []
    },
    {
      "metadata": {
        "id": "9rxJT0r1_Hr0",
        "colab_type": "code",
        "colab": {}
      },
      "cell_type": "code",
      "source": [
        "from IPython.core.debugger import set_trace\n",
        "\n",
        "lr = 0.5  # learning rate\n",
        "epochs = 2  # how many epochs to train for\n",
        "\n",
        "for epoch in range(epochs):\n",
        "    for i in range((n - 1) // bs + 1):\n",
        "        #set_trace()\n",
        "        start_i = i * bs\n",
        "        end_i = start_i + bs\n",
        "        xb = x_train[start_i:end_i]\n",
        "        yb = y_train[start_i:end_i]\n",
        "        pred = model(xb)\n",
        "        loss = loss_func(pred, yb)\n",
        "\n",
        "        loss.backward()\n",
        "        with torch.no_grad():\n",
        "            weights -= weights.grad * lr\n",
        "            bias -= bias.grad * lr\n",
        "            weights.grad.zero_()\n",
        "            bias.grad.zero_()"
      ],
      "execution_count": 0,
      "outputs": []
    },
    {
      "metadata": {
        "id": "jMPimzPd_Hr3",
        "colab_type": "text"
      },
      "cell_type": "markdown",
      "source": [
        "That's it: we've created and trained a minimal neural network (in this case, a\n",
        "logistic regression, since we have no hidden layers) entirely from scratch!\n",
        "\n",
        "Let's check the loss and accuracy and compare those to what we got\n",
        "earlier. We expect that the loss will have decreased and accuracy to\n",
        "have increased, and they have.\n",
        "\n"
      ]
    },
    {
      "metadata": {
        "id": "VxVJiMnf_Hr5",
        "colab_type": "code",
        "outputId": "35a13ac4-60b4-4fb5-800b-949c9e492546",
        "colab": {
          "base_uri": "https://localhost:8080/",
          "height": 34
        }
      },
      "cell_type": "code",
      "source": [
        "print(loss_func(model(xb), yb), accuracy(model(xb), yb))"
      ],
      "execution_count": 0,
      "outputs": [
        {
          "output_type": "stream",
          "text": [
            "tensor(0.0656, grad_fn=<NegBackward>) tensor(1.)\n"
          ],
          "name": "stdout"
        }
      ]
    },
    {
      "metadata": {
        "id": "ZO2A62dnKVlk",
        "colab_type": "code",
        "outputId": "560dba82-4e0d-49fa-8475-c9326c95847b",
        "colab": {
          "base_uri": "https://localhost:8080/",
          "height": 51
        }
      },
      "cell_type": "code",
      "source": [
        "bs = 64  # batch size\n",
        "\n",
        "xb = x_train[0:bs]  # a mini-batch from x\n",
        "preds = model(xb)  # predictions\n",
        "\n",
        "#preds[0], preds.shape\n",
        "print(preds[0], preds.shape)"
      ],
      "execution_count": 0,
      "outputs": [
        {
          "output_type": "stream",
          "text": [
            "tensor([ -7.2164, -14.0405,  -8.5436,  -2.1781, -15.1651,  -0.1226, -11.7974,\n",
            "         -7.0227,  -8.5197,  -9.6722], grad_fn=<SelectBackward>) torch.Size([64, 10])\n"
          ],
          "name": "stdout"
        }
      ]
    },
    {
      "metadata": {
        "id": "TsxvkzfjKegx",
        "colab_type": "code",
        "outputId": "5b603fcc-b62b-49e7-b662-4f3773149c87",
        "colab": {
          "base_uri": "https://localhost:8080/",
          "height": 34
        }
      },
      "cell_type": "code",
      "source": [
        "# check how off our model is from ground truth\n",
        "yb = y_train[0:bs]\n",
        "print(loss_func(preds, yb))"
      ],
      "execution_count": 0,
      "outputs": [
        {
          "output_type": "stream",
          "text": [
            "tensor(0.1903, grad_fn=<NegBackward>)\n"
          ],
          "name": "stdout"
        }
      ]
    },
    {
      "metadata": {
        "id": "tZT9YxqXKJEJ",
        "colab_type": "code",
        "outputId": "8708f734-61bf-4a9d-c25a-1ba932f78bef",
        "colab": {
          "base_uri": "https://localhost:8080/",
          "height": 34
        }
      },
      "cell_type": "code",
      "source": [
        "print(accuracy(preds, yb))"
      ],
      "execution_count": 0,
      "outputs": [
        {
          "output_type": "stream",
          "text": [
            "tensor(0.9531)\n"
          ],
          "name": "stdout"
        }
      ]
    },
    {
      "metadata": {
        "id": "HZ5J8Aw2_Hr-",
        "colab_type": "text"
      },
      "cell_type": "markdown",
      "source": [
        "Using torch.nn.functional\n",
        "------------------------------\n",
        "\n",
        "We will now refactor our code, so that it does the same thing as before, only\n",
        "we'll start taking advantage of PyTorch's ``nn`` classes to make it more concise\n",
        "and flexible. At each step from here, we should be making our code one or more\n",
        "of: shorter, more understandable, and/or more flexible.\n",
        "\n",
        "The first and easiest step is to make our code shorter by replacing our\n",
        "hand-written activation and loss functions with those from ``torch.nn.functional``\n",
        "(which is generally imported into the namespace ``F`` by convention). This module\n",
        "contains all the functions in the ``torch.nn`` library (whereas other parts of the\n",
        "library contain classes). As well as a wide range of loss and activation\n",
        "functions, you'll also find here some convenient functions for creating neural\n",
        "nets, such as pooling functions. (There are also functions for doing convolutions,\n",
        "linear layers, etc, but as we'll see, these are usually better handled using\n",
        "other parts of the library.)\n",
        "\n",
        "If you're using negative log likelihood loss and log softmax activation,\n",
        "then Pytorch provides a single function ``F.cross_entropy`` that combines\n",
        "the two. So we can even remove the activation function from our model.\n",
        "\n"
      ]
    },
    {
      "metadata": {
        "id": "waUiunEa_HsA",
        "colab_type": "code",
        "colab": {}
      },
      "cell_type": "code",
      "source": [
        "import torch.nn.functional as F\n",
        "\n",
        "loss_func = F.cross_entropy\n",
        "\n",
        "def model(xb):\n",
        "    return xb @ weights + bias"
      ],
      "execution_count": 0,
      "outputs": []
    },
    {
      "metadata": {
        "id": "unZZycxN_HsC",
        "colab_type": "text"
      },
      "cell_type": "markdown",
      "source": [
        "Note that we no longer call ``log_softmax`` in the ``model`` function. Let's\n",
        "confirm that our loss and accuracy are the same as before:\n",
        "\n"
      ]
    },
    {
      "metadata": {
        "id": "6SeGQrZ4_HsD",
        "colab_type": "code",
        "outputId": "cc036e4b-e5f3-42aa-ac4a-38128732f1ec",
        "colab": {
          "base_uri": "https://localhost:8080/",
          "height": 34
        }
      },
      "cell_type": "code",
      "source": [
        "print(loss_func(model(xb), yb), accuracy(model(xb), yb))"
      ],
      "execution_count": 0,
      "outputs": [
        {
          "output_type": "stream",
          "text": [
            "tensor(0.1903, grad_fn=<NllLossBackward>) tensor(0.9531)\n"
          ],
          "name": "stdout"
        }
      ]
    },
    {
      "metadata": {
        "id": "8i-BYxgR_HsG",
        "colab_type": "text"
      },
      "cell_type": "markdown",
      "source": [
        "Refactor using nn.Module\n",
        "-----------------------------\n",
        "Next up, we'll use ``nn.Module`` and ``nn.Parameter``, for a clearer and more\n",
        "concise training loop. We subclass ``nn.Module`` (which itself is a class and\n",
        "able to keep track of state).  In this case, we want to create a class that\n",
        "holds our weights, bias, and method for the forward step.  ``nn.Module`` has a\n",
        "number of attributes and methods (such as ``.parameters()`` and ``.zero_grad()``)\n",
        "which we will be using.\n",
        "\n",
        "<div class=\"alert alert-info\"><h4>Note</h4><p>``nn.Module`` (uppercase M) is a PyTorch specific concept, and is a\n",
        "   class we'll be using a lot. ``nn.Module`` is not to be confused with the Python\n",
        "   concept of a (lowercase ``m``) `module <https://docs.python.org/3/tutorial/modules.html>`_,\n",
        "   which is a file of Python code that can be imported.</p></div>\n",
        "\n"
      ]
    },
    {
      "metadata": {
        "id": "nM5upkHJ_HsH",
        "colab_type": "code",
        "colab": {}
      },
      "cell_type": "code",
      "source": [
        "from torch import nn\n",
        "\n",
        "class Mnist_Logistic(nn.Module):\n",
        "    def __init__(self):\n",
        "        super().__init__()\n",
        "        self.weights = nn.Parameter(torch.randn(784, 10) / math.sqrt(784))\n",
        "        self.bias = nn.Parameter(torch.zeros(10))\n",
        "\n",
        "    def forward(self, xb):\n",
        "        return xb @ self.weights + self.bias"
      ],
      "execution_count": 0,
      "outputs": []
    },
    {
      "metadata": {
        "id": "mMbngufR_HsJ",
        "colab_type": "text"
      },
      "cell_type": "markdown",
      "source": [
        "Since we're now using an object instead of just using a function, we\n",
        "first have to instantiate our model:\n",
        "\n"
      ]
    },
    {
      "metadata": {
        "id": "Zqf5uafLLxIJ",
        "colab_type": "code",
        "colab": {}
      },
      "cell_type": "code",
      "source": [
        ""
      ],
      "execution_count": 0,
      "outputs": []
    },
    {
      "metadata": {
        "id": "77xPSsSS_HsL",
        "colab_type": "code",
        "colab": {}
      },
      "cell_type": "code",
      "source": [
        "# create instance of the model\n",
        "model = Mnist_Logistic()"
      ],
      "execution_count": 0,
      "outputs": []
    },
    {
      "metadata": {
        "id": "mZw01P9M_HsP",
        "colab_type": "text"
      },
      "cell_type": "markdown",
      "source": [
        "Now we can calculate the loss in the same way as before. Note that\n",
        "``nn.Module`` objects are used as if they are functions (i.e they are\n",
        "*callable*), but behind the scenes Pytorch will call our ``forward``\n",
        "method automatically.\n",
        "\n"
      ]
    },
    {
      "metadata": {
        "id": "HujTP4aZ_HsQ",
        "colab_type": "code",
        "outputId": "cb88c576-e05a-4dd6-9528-98b0c534db37",
        "colab": {
          "base_uri": "https://localhost:8080/",
          "height": 34
        }
      },
      "cell_type": "code",
      "source": [
        "# check our random model again\n",
        "print(loss_func(model(xb), yb))"
      ],
      "execution_count": 0,
      "outputs": [
        {
          "output_type": "stream",
          "text": [
            "tensor(2.3941, grad_fn=<NllLossBackward>)\n"
          ],
          "name": "stdout"
        }
      ]
    },
    {
      "metadata": {
        "id": "m6uo6Jgx_HsS",
        "colab_type": "text"
      },
      "cell_type": "markdown",
      "source": [
        "Previously for our training loop we had to update the values for each parameter\n",
        "by name, and manually zero out the grads for each parameter separately, like this:\n",
        "::\n",
        "  with torch.no_grad():\n",
        "      weights -= weights.grad * lr\n",
        "      bias -= bias.grad * lr\n",
        "      weights.grad.zero_()\n",
        "      bias.grad.zero_()\n",
        "\n",
        "\n",
        "Now we can take advantage of model.parameters() and model.zero_grad() (which\n",
        "are both defined by PyTorch for ``nn.Module``) to make those steps more concise\n",
        "and less prone to the error of forgetting some of our parameters, particularly\n",
        "if we had a more complicated model:\n",
        "::\n",
        "  with torch.no_grad():\n",
        "      for p in model.parameters(): p -= p.grad * lr\n",
        "      model.zero_grad()\n",
        "\n",
        "\n",
        "We'll wrap our little training loop in a ``fit`` function so we can run it\n",
        "again later.\n",
        "\n"
      ]
    },
    {
      "metadata": {
        "id": "J3vg5h2M_HsU",
        "colab_type": "code",
        "colab": {}
      },
      "cell_type": "code",
      "source": [
        "# train\n",
        "def fit():\n",
        "    for epoch in range(epochs):\n",
        "        for i in range((n - 1) // bs + 1):\n",
        "            start_i = i * bs\n",
        "            end_i = start_i + bs\n",
        "            xb = x_train[start_i:end_i]\n",
        "            yb = y_train[start_i:end_i]\n",
        "            pred = model(xb)\n",
        "            loss = loss_func(pred, yb)\n",
        "             \n",
        "            loss.backward() # backprop\n",
        "            with torch.no_grad(): # do not track gradients in the backprop\n",
        "                for p in model.parameters():\n",
        "                    p -= p.grad * lr\n",
        "                model.zero_grad()\n",
        "\n",
        "fit()"
      ],
      "execution_count": 0,
      "outputs": []
    },
    {
      "metadata": {
        "id": "0O2hnVeu_HsW",
        "colab_type": "text"
      },
      "cell_type": "markdown",
      "source": [
        "Let's double-check that our loss has gone down:\n",
        "\n"
      ]
    },
    {
      "metadata": {
        "id": "5YHeZLjI_HsY",
        "colab_type": "code",
        "outputId": "b1a12e18-01d5-450c-e7fe-f182ad26e8df",
        "colab": {
          "base_uri": "https://localhost:8080/",
          "height": 34
        }
      },
      "cell_type": "code",
      "source": [
        "print(loss_func(model(xb), yb))"
      ],
      "execution_count": 0,
      "outputs": [
        {
          "output_type": "stream",
          "text": [
            "tensor(0.2258, grad_fn=<NllLossBackward>)\n"
          ],
          "name": "stdout"
        }
      ]
    },
    {
      "metadata": {
        "id": "rewFyyNi_Hsb",
        "colab_type": "text"
      },
      "cell_type": "markdown",
      "source": [
        "Refactor using nn.Linear\n",
        "-------------------------\n",
        "\n",
        "We continue to refactor our code.  Instead of manually defining and\n",
        "initializing ``self.weights`` and ``self.bias``, and calculating ``xb  @\n",
        "self.weights + self.bias``, we will instead use the Pytorch class\n",
        "[nn.Linear](https://pytorch.org/docs/stable/nn.html#linear-layers) for a\n",
        "linear layer, which does all that for us. Pytorch has many types of\n",
        "predefined layers that can greatly simplify our code, and often makes it\n",
        "faster too.\n",
        "\n"
      ]
    },
    {
      "metadata": {
        "id": "NWAXuTnn_Hsd",
        "colab_type": "code",
        "colab": {}
      },
      "cell_type": "code",
      "source": [
        "class Mnist_Logistic(nn.Module):\n",
        "    def __init__(self):\n",
        "        super().__init__()\n",
        "        self.lin = nn.Linear(784, 10)\n",
        "\n",
        "    def forward(self, xb):\n",
        "        return self.lin(xb)"
      ],
      "execution_count": 0,
      "outputs": []
    },
    {
      "metadata": {
        "id": "0pjFeIIz_Hsg",
        "colab_type": "text"
      },
      "cell_type": "markdown",
      "source": [
        "We instantiate our model and calculate the loss in the same way as before:\n",
        "\n"
      ]
    },
    {
      "metadata": {
        "id": "Hi6XC_1c_Hsh",
        "colab_type": "code",
        "outputId": "c080c2bb-25ae-4e7c-eef0-f38f0c7c7853",
        "colab": {
          "base_uri": "https://localhost:8080/",
          "height": 34
        }
      },
      "cell_type": "code",
      "source": [
        "model = Mnist_Logistic()\n",
        "print(loss_func(model(xb), yb))"
      ],
      "execution_count": 0,
      "outputs": [
        {
          "output_type": "stream",
          "text": [
            "tensor(2.3282, grad_fn=<NllLossBackward>)\n"
          ],
          "name": "stdout"
        }
      ]
    },
    {
      "metadata": {
        "id": "rK5Yuu-S_Hsl",
        "colab_type": "text"
      },
      "cell_type": "markdown",
      "source": [
        "We are still able to use our same ``fit`` method as before.\n",
        "\n"
      ]
    },
    {
      "metadata": {
        "id": "RiHaVb85_Hsn",
        "colab_type": "code",
        "outputId": "34cf5023-69ce-4cf4-ab9c-51cce221b14c",
        "colab": {
          "base_uri": "https://localhost:8080/",
          "height": 34
        }
      },
      "cell_type": "code",
      "source": [
        "# fit the model (train)\n",
        "fit()\n",
        "\n",
        "# get the loss, how well did our model do\n",
        "print(loss_func(model(xb), yb))"
      ],
      "execution_count": 0,
      "outputs": [
        {
          "output_type": "stream",
          "text": [
            "tensor(0.2279, grad_fn=<NllLossBackward>)\n"
          ],
          "name": "stdout"
        }
      ]
    },
    {
      "metadata": {
        "id": "Nq6wwN4U_Hsy",
        "colab_type": "text"
      },
      "cell_type": "markdown",
      "source": [
        "Refactor using optim\n",
        "------------------------------\n",
        "\n",
        "Pytorch also has a package with various optimization algorithms, ``torch.optim``.\n",
        "We can use the ``step`` method from our optimizer to take a forward step, instead\n",
        "of manually updating each parameter.\n",
        "\n",
        "This will let us replace our previous manually coded optimization step:\n",
        "::\n",
        "  with torch.no_grad():\n",
        "      for p in model.parameters(): p -= p.grad * lr\n",
        "      model.zero_grad()\n",
        "\n",
        "and instead use just:\n",
        "::\n",
        "  opt.step()\n",
        "  opt.zero_grad()\n",
        "\n",
        "(``optim.zero_grad()`` resets the gradient to 0 and we need to call it before\n",
        "computing the gradient for the next minibatch.)\n",
        "\n"
      ]
    },
    {
      "metadata": {
        "id": "Xx77Nj2H_Hsy",
        "colab_type": "code",
        "colab": {}
      },
      "cell_type": "code",
      "source": [
        "from torch import optim"
      ],
      "execution_count": 0,
      "outputs": []
    },
    {
      "metadata": {
        "id": "sbPoDE2c_Hs1",
        "colab_type": "text"
      },
      "cell_type": "markdown",
      "source": [
        "We'll define a little function to create our model and optimizer so we\n",
        "can reuse it in the future.\n",
        "\n",
        "Now you dont have to explicitly update the weights.\n",
        "\n"
      ]
    },
    {
      "metadata": {
        "id": "kAahjXB-_Hs2",
        "colab_type": "code",
        "colab": {}
      },
      "cell_type": "code",
      "source": [
        "def get_model():\n",
        "    model = Mnist_Logistic()\n",
        "    return model, optim.SGD(model.parameters(), lr=lr)\n",
        "\n",
        "model, opt = get_model()\n",
        "print(loss_func(model(xb), yb))\n",
        "\n",
        "for epoch in range(epochs):\n",
        "    for i in range((n - 1) // bs + 1):\n",
        "        start_i = i * bs\n",
        "        end_i = start_i + bs\n",
        "        xb = x_train[start_i:end_i]\n",
        "        yb = y_train[start_i:end_i]\n",
        "        pred = model(xb)\n",
        "        loss = loss_func(pred, yb)\n",
        "\n",
        "        loss.backward()\n",
        "        opt.step()\n",
        "        opt.zero_grad()\n",
        "\n",
        "print(loss_func(model(xb), yb))"
      ],
      "execution_count": 0,
      "outputs": []
    },
    {
      "metadata": {
        "id": "sw5MpNAi_Hs7",
        "colab_type": "text"
      },
      "cell_type": "markdown",
      "source": [
        "Refactor using Dataset\n",
        "------------------------------\n",
        "\n",
        "PyTorch has an abstract Dataset class.  A Dataset can be anything that has\n",
        "a ``__len__`` function (called by Python's standard ``len`` function) and\n",
        "a ``__getitem__`` function as a way of indexing into it.\n",
        "`This tutorial <https://pytorch.org/tutorials/beginner/data_loading_tutorial.html>`_\n",
        "walks through a nice example of creating a custom ``FacialLandmarkDataset`` class\n",
        "as a subclass of ``Dataset``.\n",
        "\n",
        "PyTorch's `TensorDataset <https://pytorch.org/docs/stable/_modules/torch/utils/data/dataset.html#TensorDataset>`_\n",
        "is a Dataset wrapping tensors. By defining a length and way of indexing,\n",
        "this also gives us a way to iterate, index, and slice along the first\n",
        "dimension of a tensor. This will make it easier to access both the\n",
        "independent and dependent variables in the same line as we train.\n",
        "\n"
      ]
    },
    {
      "metadata": {
        "id": "e6HrKoze_Hs7",
        "colab_type": "code",
        "colab": {}
      },
      "cell_type": "code",
      "source": [
        "from torch.utils.data import TensorDataset"
      ],
      "execution_count": 0,
      "outputs": []
    },
    {
      "metadata": {
        "id": "ML5WOC7V_Hs-",
        "colab_type": "text"
      },
      "cell_type": "markdown",
      "source": [
        "Both ``x_train`` and ``y_train`` can be combined in a single ``TensorDataset``,\n",
        "which will be easier to iterate over and slice.\n",
        "\n"
      ]
    },
    {
      "metadata": {
        "id": "IuwII8Ov_Hs_",
        "colab_type": "code",
        "colab": {}
      },
      "cell_type": "code",
      "source": [
        "train_ds = TensorDataset(x_train, y_train)"
      ],
      "execution_count": 0,
      "outputs": []
    },
    {
      "metadata": {
        "id": "BKNzW24U_HtB",
        "colab_type": "text"
      },
      "cell_type": "markdown",
      "source": [
        "Previously, we had to iterate through minibatches of x and y values separately:\n",
        "\n",
        "    xb = x_train[start_i:end_i]\n",
        "    yb = y_train[start_i:end_i]\n",
        "\n",
        "\n",
        "Now, we can do these two steps together:\n",
        "\n",
        "    xb,yb = train_ds[i*bs : i*bs+bs]\n",
        "\n",
        "\n"
      ]
    },
    {
      "metadata": {
        "id": "nBOo-V_v_HtC",
        "colab_type": "code",
        "colab": {}
      },
      "cell_type": "code",
      "source": [
        "model, opt = get_model()\n",
        "\n",
        "for epoch in range(epochs):\n",
        "    for i in range((n - 1) // bs + 1):\n",
        "        xb, yb = train_ds[i * bs: i * bs + bs]\n",
        "        pred = model(xb)\n",
        "        loss = loss_func(pred, yb)\n",
        "\n",
        "        loss.backward()\n",
        "        opt.step()\n",
        "        opt.zero_grad()\n",
        "\n",
        "print(loss_func(model(xb), yb))"
      ],
      "execution_count": 0,
      "outputs": []
    },
    {
      "metadata": {
        "id": "VZnqic-X_HtG",
        "colab_type": "text"
      },
      "cell_type": "markdown",
      "source": [
        "Refactor using DataLoader - get those batches\n",
        "------------------------------\n",
        "\n",
        "Pytorch's ``DataLoader`` is responsible for managing batches. You can\n",
        "create a ``DataLoader`` from any ``Dataset``. ``DataLoader`` makes it easier\n",
        "to iterate over batches. Rather than having to use ``train_ds[i*bs : i*bs+bs]``,\n",
        "the DataLoader gives us each minibatch automatically.\n",
        "\n"
      ]
    },
    {
      "metadata": {
        "id": "QymPn5iG_HtM",
        "colab_type": "code",
        "colab": {}
      },
      "cell_type": "code",
      "source": [
        "from torch.utils.data import DataLoader\n",
        "\n",
        "?DataLoader"
      ],
      "execution_count": 0,
      "outputs": []
    },
    {
      "metadata": {
        "id": "H-Acm-wQOvrL",
        "colab_type": "code",
        "colab": {}
      },
      "cell_type": "code",
      "source": [
        "train_ds = TensorDataset(x_train, y_train)\n",
        "train_dl = DataLoader(train_ds, batch_size=bs)"
      ],
      "execution_count": 0,
      "outputs": []
    },
    {
      "metadata": {
        "id": "ZIfPBBVd_HtR",
        "colab_type": "text"
      },
      "cell_type": "markdown",
      "source": [
        "Previously, our loop iterated over batches (xb, yb) like this:\n",
        "\n",
        "      for i in range((n-1)//bs + 1):\n",
        "          xb,yb = train_ds[i*bs : i*bs+bs]\n",
        "          pred = model(xb)\n",
        "\n",
        "Now, our loop is much cleaner, as (xb, yb) are loaded automatically from the data loader:\n",
        "\n",
        "        for xb,yb in train_dl:\n",
        "           pred = model(xb)\n",
        "\n"
      ]
    },
    {
      "metadata": {
        "id": "fXJ4dhQL_HtS",
        "colab_type": "code",
        "colab": {}
      },
      "cell_type": "code",
      "source": [
        "model, opt = get_model()\n",
        "\n",
        "for epoch in range(epochs):\n",
        "    for xb, yb in train_dl:\n",
        "        pred = model(xb)\n",
        "        loss = loss_func(pred, yb)\n",
        "\n",
        "        loss.backward()\n",
        "        opt.step()\n",
        "        opt.zero_grad()\n",
        "\n",
        "print(loss_func(model(xb), yb))"
      ],
      "execution_count": 0,
      "outputs": []
    },
    {
      "metadata": {
        "id": "nN2eK_5K_HtV",
        "colab_type": "text"
      },
      "cell_type": "markdown",
      "source": [
        "Thanks to Pytorch's ``nn.Module``, ``nn.Parameter``, ``Dataset``, and ``DataLoader``,\n",
        "our training loop is now dramatically smaller and easier to understand. Let's\n",
        "now try to add the basic features necessary to create effecive models in practice.\n",
        "\n",
        "Add validation\n",
        "-----------------------\n",
        "\n",
        "In section 1, we were just trying to get a reasonable training loop set up for\n",
        "use on our training data.  In reality, you **always** should also have\n",
        "a `validation set <https://www.fast.ai/2017/11/13/validation-sets/>`_, in order\n",
        "to identify if you are overfitting.\n",
        "\n",
        "Shuffling the training data is\n",
        "`important <https://www.quora.com/Does-the-order-of-training-data-matter-when-training-neural-networks>`_\n",
        "to prevent correlation between batches and overfitting. On the other hand, the\n",
        "validation loss will be identical whether we shuffle the validation set or not.\n",
        "Since shuffling takes extra time, it makes no sense to shuffle the validation data.\n",
        "\n",
        "We'll use a batch size for the validation set that is twice as large as\n",
        "that for the training set. This is because the validation set does not\n",
        "need backpropagation and thus takes less memory (it doesn't need to\n",
        "store the gradients). We take advantage of this to use a larger batch\n",
        "size and compute the loss more quickly.\n",
        "\n"
      ]
    },
    {
      "metadata": {
        "id": "atoQmalK_HtZ",
        "colab_type": "code",
        "colab": {}
      },
      "cell_type": "code",
      "source": [
        "train_ds = TensorDataset(x_train, y_train)\n",
        "train_dl = DataLoader(train_ds, batch_size=bs, shuffle=True)\n",
        "\n",
        "valid_ds = TensorDataset(x_valid, y_valid)\n",
        "valid_dl = DataLoader(valid_ds, batch_size=bs * 2)"
      ],
      "execution_count": 0,
      "outputs": []
    },
    {
      "metadata": {
        "id": "rmg80rqJ_Hte",
        "colab_type": "text"
      },
      "cell_type": "markdown",
      "source": [
        "We will calculate and print the validation loss at the end of each epoch.\n",
        "\n",
        "(Note that we always call ``model.train()`` before training, and ``model.eval()``\n",
        "before inference, because these are used by layers such as ``nn.BatchNorm2d``\n",
        "and ``nn.Dropout`` to ensure appropriate behaviour for these different phases.)\n",
        "\n"
      ]
    },
    {
      "metadata": {
        "id": "16KRYyqF_Hte",
        "colab_type": "code",
        "colab": {}
      },
      "cell_type": "code",
      "source": [
        "model, opt = get_model()\n",
        "\n",
        "for epoch in range(epochs):\n",
        "    model.train()\n",
        "    for xb, yb in train_dl:\n",
        "        pred = model(xb)\n",
        "        loss = loss_func(pred, yb)\n",
        "\n",
        "        loss.backward()\n",
        "        opt.step()\n",
        "        opt.zero_grad()\n",
        "\n",
        "    model.eval()\n",
        "    with torch.no_grad():\n",
        "        valid_loss = sum(loss_func(model(xb), yb) for xb, yb in valid_dl)\n",
        "\n",
        "    print(epoch, valid_loss / len(valid_dl))"
      ],
      "execution_count": 0,
      "outputs": []
    },
    {
      "metadata": {
        "id": "0tDCixcd_Htg",
        "colab_type": "text"
      },
      "cell_type": "markdown",
      "source": [
        "Create fit() and get_data()\n",
        "----------------------------------\n",
        "\n",
        "We'll now do a little refactoring of our own. Since we go through a similar\n",
        "process twice of calculating the loss for both the training set and the\n",
        "validation set, let's make that into its own function, ``loss_batch``, which\n",
        "computes the loss for one batch.\n",
        "\n",
        "We pass an optimizer in for the training set, and use it to perform\n",
        "backprop.  For the validation set, we don't pass an optimizer, so the\n",
        "method doesn't perform backprop.\n",
        "\n"
      ]
    },
    {
      "metadata": {
        "id": "FSYvoM_I_Hth",
        "colab_type": "code",
        "colab": {}
      },
      "cell_type": "code",
      "source": [
        "def loss_batch(model, loss_func, xb, yb, opt=None):\n",
        "    loss = loss_func(model(xb), yb)\n",
        "\n",
        "    if opt is not None:\n",
        "        loss.backward()\n",
        "        opt.step()\n",
        "        opt.zero_grad()\n",
        "\n",
        "    return loss.item(), len(xb)"
      ],
      "execution_count": 0,
      "outputs": []
    },
    {
      "metadata": {
        "id": "E_0xmhLE_Htj",
        "colab_type": "text"
      },
      "cell_type": "markdown",
      "source": [
        "``fit`` runs the necessary operations to train our model and compute the\n",
        "training and validation losses for each epoch.\n",
        "\n"
      ]
    },
    {
      "metadata": {
        "id": "ohAVfR43_Htk",
        "colab_type": "code",
        "colab": {}
      },
      "cell_type": "code",
      "source": [
        "import numpy as np\n",
        "\n",
        "def fit(epochs, model, loss_func, opt, train_dl, valid_dl):\n",
        "    for epoch in range(epochs):\n",
        "        model.train()\n",
        "        for xb, yb in train_dl:\n",
        "            loss_batch(model, loss_func, xb, yb, opt)\n",
        "\n",
        "        model.eval()\n",
        "        with torch.no_grad():\n",
        "            losses, nums = zip(\n",
        "                *[loss_batch(model, loss_func, xb, yb) for xb, yb in valid_dl]\n",
        "            )\n",
        "        val_loss = np.sum(np.multiply(losses, nums)) / np.sum(nums)\n",
        "\n",
        "        print(epoch, val_loss)"
      ],
      "execution_count": 0,
      "outputs": []
    },
    {
      "metadata": {
        "id": "LfVfdwwH_Htm",
        "colab_type": "text"
      },
      "cell_type": "markdown",
      "source": [
        "``get_data`` returns dataloaders for the training and validation sets.\n",
        "\n"
      ]
    },
    {
      "metadata": {
        "id": "KtXjrDUz_Htn",
        "colab_type": "code",
        "colab": {}
      },
      "cell_type": "code",
      "source": [
        "def get_data(train_ds, valid_ds, bs):\n",
        "    return (\n",
        "        DataLoader(train_ds, batch_size=bs, shuffle=True),\n",
        "        DataLoader(valid_ds, batch_size=bs * 2),\n",
        "    )"
      ],
      "execution_count": 0,
      "outputs": []
    },
    {
      "metadata": {
        "id": "_ZwEoQIA_Htq",
        "colab_type": "text"
      },
      "cell_type": "markdown",
      "source": [
        "Now, our whole process of obtaining the data loaders and fitting the\n",
        "model can be run in 3 lines of code:\n",
        "\n"
      ]
    },
    {
      "metadata": {
        "id": "OrH1hdmh_Htr",
        "colab_type": "code",
        "colab": {}
      },
      "cell_type": "code",
      "source": [
        "train_dl, valid_dl = get_data(train_ds, valid_ds, bs)\n",
        "model, opt = get_model()\n",
        "fit(epochs, model, loss_func, opt, train_dl, valid_dl)"
      ],
      "execution_count": 0,
      "outputs": []
    },
    {
      "metadata": {
        "id": "-BaqBcer_Htt",
        "colab_type": "text"
      },
      "cell_type": "markdown",
      "source": [
        "You can use these basic 3 lines of code to train a wide variety of models.\n",
        "Let's see if we can use them to train a convolutional neural network (CNN)!\n",
        "\n",
        "Switch to CNN\n",
        "-------------\n",
        "\n",
        "We are now going to build our neural network with three convolutional layers.\n",
        "Because none of the functions in the previous section assume anything about\n",
        "the model form, we'll be able to use them to train a CNN without any modification.\n",
        "\n",
        "We will use Pytorch's predefined\n",
        "`Conv2d <https://pytorch.org/docs/stable/nn.html#torch.nn.Conv2d>`_ class\n",
        "as our convolutional layer. We define a CNN with 3 convolutional layers.\n",
        "Each convolution is followed by a ReLU.  At the end, we perform an\n",
        "average pooling.  (Note that ``view`` is PyTorch's version of numpy's\n",
        "``reshape``)\n",
        "\n"
      ]
    },
    {
      "metadata": {
        "id": "CB0nir4w_Htu",
        "colab_type": "code",
        "colab": {}
      },
      "cell_type": "code",
      "source": [
        "class Mnist_CNN(nn.Module):\n",
        "    def __init__(self):\n",
        "        super().__init__()\n",
        "        self.conv1 = nn.Conv2d(1, 16, kernel_size=3, stride=2, padding=1)\n",
        "        self.conv2 = nn.Conv2d(16, 16, kernel_size=3, stride=2, padding=1)\n",
        "        self.conv3 = nn.Conv2d(16, 10, kernel_size=3, stride=2, padding=1)\n",
        "\n",
        "    def forward(self, xb):\n",
        "        xb = xb.view(-1, 1, 28, 28)\n",
        "        xb = F.relu(self.conv1(xb))\n",
        "        xb = F.relu(self.conv2(xb))\n",
        "        xb = F.relu(self.conv3(xb))\n",
        "        xb = F.avg_pool2d(xb, 4)\n",
        "        return xb.view(-1, xb.size(1))\n",
        "\n",
        "lr = 0.1"
      ],
      "execution_count": 0,
      "outputs": []
    },
    {
      "metadata": {
        "id": "BYNN-xU7_Htw",
        "colab_type": "text"
      },
      "cell_type": "markdown",
      "source": [
        "`Momentum <https://cs231n.github.io/neural-networks-3/#sgd>`_ is a variation on\n",
        "stochastic gradient descent that takes previous updates into account as well\n",
        "and generally leads to faster training.\n",
        "\n"
      ]
    },
    {
      "metadata": {
        "id": "YPviscWI_Htx",
        "colab_type": "code",
        "colab": {}
      },
      "cell_type": "code",
      "source": [
        "model = Mnist_CNN()\n",
        "opt = optim.SGD(model.parameters(), lr=lr, momentum=0.9)\n",
        "\n",
        "fit(epochs, model, loss_func, opt, train_dl, valid_dl)"
      ],
      "execution_count": 0,
      "outputs": []
    },
    {
      "metadata": {
        "id": "DQRbcgb5_Htz",
        "colab_type": "text"
      },
      "cell_type": "markdown",
      "source": [
        "nn.Sequential\n",
        "------------------------\n",
        "\n",
        "``torch.nn`` has another handy class we can use to simply our code:\n",
        "`Sequential <https://pytorch.org/docs/stable/nn.html#torch.nn.Sequential>`_ .\n",
        "A ``Sequential`` object runs each of the modules contained within it, in a\n",
        "sequential manner. This is a simpler way of writing our neural network.\n",
        "\n",
        "To take advantage of this, we need to be able to easily define a\n",
        "**custom layer** from a given function.  For instance, PyTorch doesn't\n",
        "have a `view` layer, and we need to create one for our network. ``Lambda``\n",
        "will create a layer that we can then use when defining a network with\n",
        "``Sequential``.\n",
        "\n"
      ]
    },
    {
      "metadata": {
        "id": "2FzTOSfm_Ht0",
        "colab_type": "code",
        "colab": {}
      },
      "cell_type": "code",
      "source": [
        "class Lambda(nn.Module):\n",
        "    def __init__(self, func):\n",
        "        super().__init__()\n",
        "        self.func = func\n",
        "\n",
        "    def forward(self, x):\n",
        "        return self.func(x)\n",
        "\n",
        "\n",
        "def preprocess(x):\n",
        "    return x.view(-1, 1, 28, 28)"
      ],
      "execution_count": 0,
      "outputs": []
    },
    {
      "metadata": {
        "id": "yauCf4xk_Ht1",
        "colab_type": "text"
      },
      "cell_type": "markdown",
      "source": [
        "The model created with ``Sequential`` is simply:\n",
        "\n"
      ]
    },
    {
      "metadata": {
        "id": "Uwp-XWDg_Ht5",
        "colab_type": "code",
        "colab": {}
      },
      "cell_type": "code",
      "source": [
        "model = nn.Sequential(\n",
        "    Lambda(preprocess),\n",
        "    nn.Conv2d(1, 16, kernel_size=3, stride=2, padding=1),\n",
        "    nn.ReLU(),\n",
        "    nn.Conv2d(16, 16, kernel_size=3, stride=2, padding=1),\n",
        "    nn.ReLU(),\n",
        "    nn.Conv2d(16, 10, kernel_size=3, stride=2, padding=1),\n",
        "    nn.ReLU(),\n",
        "    nn.AvgPool2d(4),\n",
        "    Lambda(lambda x: x.view(x.size(0), -1)),\n",
        ")\n",
        "\n",
        "opt = optim.SGD(model.parameters(), lr=lr, momentum=0.9)\n",
        "\n",
        "fit(epochs, model, loss_func, opt, train_dl, valid_dl)"
      ],
      "execution_count": 0,
      "outputs": []
    },
    {
      "metadata": {
        "id": "Mr0RwGOH_Ht8",
        "colab_type": "text"
      },
      "cell_type": "markdown",
      "source": [
        "Wrapping DataLoader\n",
        "-----------------------------\n",
        "\n",
        "Our CNN is fairly concise, but it only works with MNIST, because:\n",
        " - It assumes the input is a 28\\*28 long vector\n",
        " - It assumes that the final CNN grid size is 4\\*4 (since that's the average\n",
        "pooling kernel size we used)\n",
        "\n",
        "Let's get rid of these two assumptions, so our model works with any 2d\n",
        "single channel image. First, we can remove the initial Lambda layer but\n",
        "moving the data preprocessing into a generator:\n",
        "\n"
      ]
    },
    {
      "metadata": {
        "id": "hGCS4xXi_Ht_",
        "colab_type": "code",
        "colab": {}
      },
      "cell_type": "code",
      "source": [
        "def preprocess(x, y):\n",
        "    return x.view(-1, 1, 28, 28), y\n",
        "\n",
        "\n",
        "class WrappedDataLoader:\n",
        "    def __init__(self, dl, func):\n",
        "        self.dl = dl\n",
        "        self.func = func\n",
        "\n",
        "    def __len__(self):\n",
        "        return len(self.dl)\n",
        "\n",
        "    def __iter__(self):\n",
        "        batches = iter(self.dl)\n",
        "        for b in batches:\n",
        "            yield (self.func(*b))\n",
        "\n",
        "train_dl, valid_dl = get_data(train_ds, valid_ds, bs)\n",
        "train_dl = WrappedDataLoader(train_dl, preprocess)\n",
        "valid_dl = WrappedDataLoader(valid_dl, preprocess)"
      ],
      "execution_count": 0,
      "outputs": []
    },
    {
      "metadata": {
        "id": "hfExR2uu_HuC",
        "colab_type": "text"
      },
      "cell_type": "markdown",
      "source": [
        "Next, we can replace ``nn.AvgPool2d`` with ``nn.AdaptiveAvgPool2d``, which\n",
        "allows us to define the size of the *output* tensor we want, rather than\n",
        "the *input* tensor we have. As a result, our model will work with any\n",
        "size input.\n",
        "\n"
      ]
    },
    {
      "metadata": {
        "id": "Hi7fJcIn_HuD",
        "colab_type": "code",
        "colab": {}
      },
      "cell_type": "code",
      "source": [
        "model = nn.Sequential(\n",
        "    nn.Conv2d(1, 16, kernel_size=3, stride=2, padding=1),\n",
        "    nn.ReLU(),\n",
        "    nn.Conv2d(16, 16, kernel_size=3, stride=2, padding=1),\n",
        "    nn.ReLU(),\n",
        "    nn.Conv2d(16, 10, kernel_size=3, stride=2, padding=1),\n",
        "    nn.ReLU(),\n",
        "    nn.AdaptiveAvgPool2d(1),\n",
        "    Lambda(lambda x: x.view(x.size(0), -1)),\n",
        ")\n",
        "\n",
        "opt = optim.SGD(model.parameters(), lr=lr, momentum=0.9)"
      ],
      "execution_count": 0,
      "outputs": []
    },
    {
      "metadata": {
        "id": "9Epnmnem_HuF",
        "colab_type": "text"
      },
      "cell_type": "markdown",
      "source": [
        "Let's try it out:\n",
        "\n"
      ]
    },
    {
      "metadata": {
        "id": "jB6Qd_T6_HuH",
        "colab_type": "code",
        "colab": {}
      },
      "cell_type": "code",
      "source": [
        "fit(epochs, model, loss_func, opt, train_dl, valid_dl)"
      ],
      "execution_count": 0,
      "outputs": []
    },
    {
      "metadata": {
        "id": "RqgpbNxG_HuL",
        "colab_type": "text"
      },
      "cell_type": "markdown",
      "source": [
        "Using your GPU\n",
        "---------------\n",
        "\n",
        "If you're lucky enough to have access to a CUDA-capable GPU (you can\n",
        "rent one for about about $0.50/hour from most cloud providers) you can\n",
        "use it to speed up your code. First check that your GPU is working in\n",
        "Pytorch:\n",
        "\n"
      ]
    },
    {
      "metadata": {
        "id": "lDzlkJrh_HuO",
        "colab_type": "code",
        "colab": {}
      },
      "cell_type": "code",
      "source": [
        "print(torch.cuda.is_available())"
      ],
      "execution_count": 0,
      "outputs": []
    },
    {
      "metadata": {
        "id": "CKlA1t6x_HuS",
        "colab_type": "text"
      },
      "cell_type": "markdown",
      "source": [
        "And then create a device object for it:\n",
        "\n"
      ]
    },
    {
      "metadata": {
        "id": "avsM9PgB_HuT",
        "colab_type": "code",
        "colab": {}
      },
      "cell_type": "code",
      "source": [
        "dev = torch.device(\n",
        "    \"cuda\") if torch.cuda.is_available() else torch.device(\"cpu\")"
      ],
      "execution_count": 0,
      "outputs": []
    },
    {
      "metadata": {
        "id": "DusYOZ8g_HuW",
        "colab_type": "text"
      },
      "cell_type": "markdown",
      "source": [
        "Let's update ``preprocess`` to move batches to the GPU:\n",
        "\n"
      ]
    },
    {
      "metadata": {
        "id": "xyb4-1dC_HuW",
        "colab_type": "code",
        "colab": {}
      },
      "cell_type": "code",
      "source": [
        "def preprocess(x, y):\n",
        "    return x.view(-1, 1, 28, 28).to(dev), y.to(dev)\n",
        "\n",
        "\n",
        "train_dl, valid_dl = get_data(train_ds, valid_ds, bs)\n",
        "train_dl = WrappedDataLoader(train_dl, preprocess)\n",
        "valid_dl = WrappedDataLoader(valid_dl, preprocess)"
      ],
      "execution_count": 0,
      "outputs": []
    },
    {
      "metadata": {
        "id": "dgH4JbtK_HuY",
        "colab_type": "text"
      },
      "cell_type": "markdown",
      "source": [
        "Finally, we can move our model to the GPU.\n",
        "\n"
      ]
    },
    {
      "metadata": {
        "id": "c9tZEvXG_HuZ",
        "colab_type": "code",
        "colab": {}
      },
      "cell_type": "code",
      "source": [
        "model.to(dev)\n",
        "opt = optim.SGD(model.parameters(), lr=lr, momentum=0.9)"
      ],
      "execution_count": 0,
      "outputs": []
    },
    {
      "metadata": {
        "id": "Mj6ONfnX_Hub",
        "colab_type": "text"
      },
      "cell_type": "markdown",
      "source": [
        "You should find it runs faster now:\n",
        "\n"
      ]
    },
    {
      "metadata": {
        "id": "HNwrceKJ_Huc",
        "colab_type": "code",
        "colab": {}
      },
      "cell_type": "code",
      "source": [
        "fit(epochs, model, loss_func, opt, train_dl, valid_dl)"
      ],
      "execution_count": 0,
      "outputs": []
    },
    {
      "metadata": {
        "id": "d4Dycmi1_Hud",
        "colab_type": "text"
      },
      "cell_type": "markdown",
      "source": [
        "Closing thoughts\n",
        "-----------------\n",
        "\n",
        "We now have a general data pipeline and training loop which you can use for\n",
        "training many types of models using Pytorch. To see how simple training a model\n",
        "can now be, take a look at the `mnist_sample` sample notebook.\n",
        "\n",
        "Of course, there are many things you'll want to add, such as data augmentation,\n",
        "hyperparameter tuning, monitoring training, transfer learning, and so forth.\n",
        "These features are available in the fastai library, which has been developed\n",
        "using the same design approach shown in this tutorial, providing a natural\n",
        "next step for practitioners looking to take their models further.\n",
        "\n",
        "We promised at the start of this tutorial we'd explain through example each of\n",
        "``torch.nn``, ``torch.optim``, ``Dataset``, and ``DataLoader``. So let's summarize\n",
        "what we've seen:\n",
        "\n",
        " - **torch.nn**\n",
        "\n",
        "   + ``Module``: creates a callable which behaves like a function, but can also\n",
        "     contain state(such as neural net layer weights). It knows what ``Parameter`` (s) it\n",
        "     contains and can zero all their gradients, loop through them for weight updates, etc.\n",
        "   + ``Parameter``: a wrapper for a tensor that tells a ``Module`` that it has weights\n",
        "     that need updating during backprop. Only tensors with the `requires_grad` attribute set are updated\n",
        "   + ``functional``: a module(usually imported into the ``F`` namespace by convention)\n",
        "     which contains activation functions, loss functions, etc, as well as non-stateful\n",
        "     versions of layers such as convolutional and linear layers.\n",
        " - ``torch.optim``: Contains optimizers such as ``SGD``, which update the weights\n",
        "   of ``Parameter`` during the backward step\n",
        " - ``Dataset``: An abstract interface of objects with a ``__len__`` and a ``__getitem__``,\n",
        "   including classes provided with Pytorch such as ``TensorDataset``\n",
        " - ``DataLoader``: Takes any ``Dataset`` and creates an iterator which returns batches of data.\n",
        "\n"
      ]
    },
    {
      "metadata": {
        "id": "IhB3aoEaG-mj",
        "colab_type": "code",
        "colab": {}
      },
      "cell_type": "code",
      "source": [
        ""
      ],
      "execution_count": 0,
      "outputs": []
    },
    {
      "metadata": {
        "id": "VcY2aAnIG-9H",
        "colab_type": "text"
      },
      "cell_type": "markdown",
      "source": [
        "# Resources\n",
        "\n",
        "- [Pytorch tutorials from Stefan Otte](https://github.com/sotte/pytorch_tutorial/tree/master/notebooks)"
      ]
    },
    {
      "metadata": {
        "id": "6gPYzTrgHHuD",
        "colab_type": "code",
        "colab": {}
      },
      "cell_type": "code",
      "source": [
        ""
      ],
      "execution_count": 0,
      "outputs": []
    }
  ]
}